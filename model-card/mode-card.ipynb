{
 "cells": [
  {
   "cell_type": "code",
   "execution_count": 4,
   "metadata": {},
   "outputs": [],
   "source": [
    "import model_card_toolkit"
   ]
  },
  {
   "cell_type": "code",
   "execution_count": 2,
   "metadata": {},
   "outputs": [],
   "source": [
    "!rm -rf output"
   ]
  },
  {
   "cell_type": "code",
   "execution_count": 3,
   "metadata": {},
   "outputs": [],
   "source": [
    "# Initialize the Model Card Toolkit with a path to store generate assets\n",
    "model_card_output_path = 'output'\n",
    "mct = model_card_toolkit.ModelCardToolkit(model_card_output_path)\n",
    "\n",
    "# Initialize the model_card_toolkit.ModelCard, which can be freely populated\n",
    "model_card = mct.scaffold_assets()\n",
    "model_card.model_details.name = 'testing'\n",
    "\n",
    "# Write the model card data to a JSON file\n",
    "mct.update_model_card_json(model_card)\n",
    "\n",
    "# Return the model card document as an HTML page\n",
    "html = mct.export_format()"
   ]
  }
 ],
 "metadata": {
  "kernelspec": {
   "display_name": "Python 3",
   "language": "python",
   "name": "python3"
  },
  "language_info": {
   "codemirror_mode": {
    "name": "ipython",
    "version": 3
   },
   "file_extension": ".py",
   "mimetype": "text/x-python",
   "name": "python",
   "nbconvert_exporter": "python",
   "pygments_lexer": "ipython3",
   "version": "3.7.4"
  }
 },
 "nbformat": 4,
 "nbformat_minor": 4
}
