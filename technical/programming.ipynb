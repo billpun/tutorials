{
 "cells": [
  {
   "cell_type": "markdown",
   "metadata": {},
   "source": [
    "Given two arrays of integers, write an algorithm that outputs an array containing the union of these integers, and an array containing the intersection of these integers.\n"
   ]
  },
  {
   "cell_type": "code",
   "execution_count": 44,
   "metadata": {},
   "outputs": [
    {
     "name": "stdout",
     "output_type": "stream",
     "text": [
      "[4]\n",
      "[4, 5, 6, 0, 1, 2, 3]\n",
      "union: [0]\n",
      "inter: []\n",
      "union: [0, 1]\n",
      "inter: []\n",
      "union: [0, 1, 2]\n",
      "inter: []\n",
      "union: [0, 1, 2, 3]\n",
      "inter: []\n",
      "union: [0, 1, 2, 3, 4]\n",
      "inter: [4]\n",
      "union: [0, 1, 2, 3, 4, 5]\n",
      "inter: [4]\n",
      "union: [0, 1, 2, 3, 4, 5, 6]\n",
      "inter: [4]\n"
     ]
    }
   ],
   "source": [
    "# this code runs in o((X + Y)^2) steps\n",
    "y = [0, 1, 2, 3, 4]\n",
    "x = [4, 5, 6]\n",
    "\n",
    "x = sorted(x)\n",
    "y = sorted(y)\n",
    "\n",
    "X = len(x)\n",
    "Y = len(y)\n",
    "\n",
    "union = []\n",
    "inter = []\n",
    "\n",
    "for i in x + y:\n",
    "    if i not in inter:\n",
    "        if i in x and i in y:\n",
    "            inter.append(i)\n",
    "    if i not in union:\n",
    "        if i in x or i in y:\n",
    "            union.append(i)\n",
    "\n",
    "print(inter)\n",
    "print(union)\n",
    "\n",
    "# this code runs in O(X + Y) steps at most\n",
    "union = []\n",
    "inter = []\n",
    "\n",
    "i = 0\n",
    "j = 0\n",
    "\n",
    "while i < X or j < Y:\n",
    "    if i < X: u = x[i]\n",
    "    if j < Y: v = y[j]\n",
    "    if u < v and i <= X - 1:\n",
    "        union.append(u)\n",
    "        i += 1\n",
    "    if u < v and i > X - 1:\n",
    "        union.append(v)\n",
    "        j += 1\n",
    "    if u > v and j <= Y - 1:\n",
    "        union.append(v)\n",
    "        j += 1\n",
    "    if u > v and j > Y - 1:\n",
    "        union.append(u)\n",
    "        i += 1\n",
    "    if u == v:\n",
    "        inter.append(u)  \n",
    "        union.append(u)\n",
    "        i += 1\n",
    "        j += 1\n",
    "    print('union: {}'.format(union))\n",
    "    print('inter: {}'.format(inter))"
   ]
  },
  {
   "cell_type": "code",
   "execution_count": 1,
   "metadata": {},
   "outputs": [
    {
     "name": "stdout",
     "output_type": "stream",
     "text": [
      "[2]\n",
      "[3]\n",
      "[2, 1]\n",
      "[3]\n",
      "[2, 1, 2]\n",
      "[3]\n",
      "[2, 1, 2, 4]\n",
      "[3]\n",
      "[2, 1, 2, 4, 5]\n",
      "[3]\n"
     ]
    }
   ],
   "source": [
    "class Array():\n",
    "    \n",
    "    def __init__(self, x):\n",
    "        self.size = len(x)\n",
    "        self.x = x\n",
    "        self.i = 0\n",
    "        self.ended = False\n",
    "        \n",
    "    def iterate(self):\n",
    "        if self.i == self.size - 1:\n",
    "            self.ended = True\n",
    "        self.i = min(self.i + 1, self.size - 1)\n",
    "        \n",
    "    def get(self):\n",
    "        return self.x[self.i]\n",
    "    \n",
    "    def fill(self, values):\n",
    "        values.append(self.get())\n",
    "        self.iterate()\n",
    "        \n",
    "x = Array([0, 1, 2, 3])\n",
    "y = Array([2, 3, 4, 5])\n",
    "\n",
    "union = []\n",
    "inter = []\n",
    "\n",
    "while not x.ended or not y.ended:\n",
    "    \n",
    "    if x.get() < y.get():\n",
    "        if not x.ended:\n",
    "            x.fill(union)\n",
    "        else:\n",
    "            y.fill(union)\n",
    "        \n",
    "    if y.get() < x.get():\n",
    "        if not y.ended:\n",
    "            y.fill(union)\n",
    "        else:\n",
    "            x.fill(union)\n",
    "        \n",
    "    if x.get() == y.get():\n",
    "        x.fill(inter)\n",
    "        y.iterate()\n",
    "        \n",
    "    print(union)\n",
    "    print(inter)"
   ]
  },
  {
   "cell_type": "markdown",
   "metadata": {},
   "source": [
    "\n",
    "Given a directed graph, check whether the graph contains a cycle or not. Your function should return true if the given graph contains at least one cycle, else return false. For example, the following graph contains three cycles 0->2->0, 0->1->2->0 and 3->3, so your function must return true."
   ]
  },
  {
   "cell_type": "code",
   "execution_count": 31,
   "metadata": {},
   "outputs": [
    {
     "name": "stdout",
     "output_type": "stream",
     "text": [
      "[[0, 1], [1, 2], [2, 0]]\n"
     ]
    },
    {
     "data": {
      "text/plain": [
       "True"
      ]
     },
     "execution_count": 31,
     "metadata": {},
     "output_type": "execute_result"
    }
   ],
   "source": [
    "# typical depth first search\n",
    "V = [0, 1, 2, 3]\n",
    "E = [ [0, 1], [0, 2], [1, 2], [2, 0], [3, 3] ]\n",
    "\n",
    "def find(path):\n",
    "    path_begin = path[0][0]\n",
    "    path_end = path[-1][1]\n",
    "    for e in E:\n",
    "        if e[0] == path_end:\n",
    "            if e not in path:\n",
    "                path.append(e)\n",
    "            if e[1] != path_begin:\n",
    "                return find(path)\n",
    "            else:\n",
    "                print(path)\n",
    "                return True\n",
    "    return False\n",
    "     \n",
    "def containCycle(E):\n",
    "    for e in E:\n",
    "        if find([ e ]): \n",
    "            return True\n",
    "    return False\n",
    "\n",
    "containCycle(E)"
   ]
  }
 ],
 "metadata": {
  "kernelspec": {
   "display_name": "Python 3",
   "language": "python",
   "name": "python3"
  },
  "language_info": {
   "codemirror_mode": {
    "name": "ipython",
    "version": 3
   },
   "file_extension": ".py",
   "mimetype": "text/x-python",
   "name": "python",
   "nbconvert_exporter": "python",
   "pygments_lexer": "ipython3",
   "version": "3.7.4"
  }
 },
 "nbformat": 4,
 "nbformat_minor": 4
}
