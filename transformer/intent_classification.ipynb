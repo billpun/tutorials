{
 "cells": [
  {
   "cell_type": "code",
   "execution_count": 1,
   "metadata": {},
   "outputs": [],
   "source": [
    "import os\n",
    "import numpy as np\n",
    "import pandas as pd\n",
    "import torch\n",
    "import torch.nn as nn\n",
    "import torch.nn.functional as F\n",
    "from torch.optim.lr_scheduler import CosineAnnealingLR\n",
    "import multiprocessing\n",
    "from transformers import DistilBertTokenizer, DistilBertModel, AdamW, get_linear_schedule_with_warmup\n",
    "from transformers import AutoTokenizer, AutoModelWithLMHead, AutoModel\n",
    "from tqdm.notebook import tqdm\n",
    "from common import Common, Timer\n",
    "from sklearn.preprocessing import LabelEncoder\n",
    "import seaborn as sns\n",
    "import matplotlib.pyplot as plt\n",
    "from matplotlib.ticker import PercentFormatter\n",
    "import random\n",
    "from apex import amp"
   ]
  },
  {
   "cell_type": "code",
   "execution_count": 2,
   "metadata": {},
   "outputs": [],
   "source": [
    "PATH = 'C:/Users/bill/Documents/projects/data/chatbot'\n",
    "MAX_WORKERS = multiprocessing.cpu_count() - 1\n",
    "B = 32\n",
    "E = 10\n",
    "T = 500\n",
    "Y = 199"
   ]
  },
  {
   "cell_type": "code",
   "execution_count": 3,
   "metadata": {},
   "outputs": [],
   "source": [
    "train_df = pd.read_csv(os.path.join(PATH, 'train.tsv'), sep='\\t')[['utterance', 'intent']].dropna().reset_index(drop=True)\n",
    "valid_df = pd.read_csv(os.path.join(PATH, 'valid.tsv'), sep='\\t')[['utterance', 'intent']].dropna().reset_index(drop=True)\n",
    "\n",
    "intents = LabelEncoder()\n",
    "intents.fit(pd.concat([ train_df['intent'], valid_df['intent'] ]))\n",
    "train_df['intent'] = intents.transform(train_df['intent'])\n",
    "valid_df['intent'] = intents.transform(valid_df['intent'])\n",
    "\n",
    "# to ensure that BERT will run without problem on sequence length\n",
    "train_df['utterance'] = train_df['utterance'].apply(lambda x : x[:T])\n",
    "valid_df['utterance'] = valid_df['utterance'].apply(lambda x : x[:T])\n",
    "    \n",
    "itrain = Common.generator(train_df['utterance'], train_df['intent'], B)\n",
    "ivalid = Common.generator(valid_df['utterance'], valid_df['intent'], B)"
   ]
  },
  {
   "cell_type": "code",
   "execution_count": 4,
   "metadata": {},
   "outputs": [
    {
     "data": {
      "image/png": "[encoded data removed]",
      "text/plain": [
       "<Figure size 432x288 with 1 Axes>"
      ]
     },
     "metadata": {
      "needs_background": "light"
     },
     "output_type": "display_data"
    }
   ],
   "source": [
    "x = pd.concat([train_df['utterance'], valid_df['utterance']])\n",
    "ax = sns.distplot(x.str.split().apply(len))\n",
    "ax.set(xlabel='Title Length', ylabel='Distribution')\n",
    "ax.set_yticklabels(['{:,.0%}'.format(y) for y in ax.get_yticks()])\n",
    "plt.show()"
   ]
  },
  {
   "cell_type": "code",
   "execution_count": 5,
   "metadata": {},
   "outputs": [],
   "source": [
    "class Model(nn.Module):\n",
    "    \n",
    "    #model = 'distilbert-base-cased'\n",
    "    def __init__(self, model, T, Y, device, L=0):\n",
    "        super(Model, self).__init__()\n",
    "        self.T = T\n",
    "        self.device = device\n",
    "        #self.tokenizer = DistilBertTokenizer.from_pretrained(\n",
    "        #    os.path.join(PATH, 'tokenizer'), do_lower_case=True)\n",
    "        #self.model = DistilBertModel.from_pretrained(\n",
    "        #    os.path.join(PATH, 'distilBERT')).to(self.device)\n",
    "        self.tokenizer = AutoTokenizer.from_pretrained(model, do_lower_case=True)\n",
    "        self.model = AutoModel.from_pretrained(model)\n",
    "        # remove layers\n",
    "        for _ in range(L):\n",
    "            self.model.transformer.layer.__delitem__(0)\n",
    "        self.linear = nn.Linear(768, Y)\n",
    "        self.dropout = nn.Dropout(0.2)\n",
    "        \n",
    "    def forward(self, inputs):\n",
    "        tokens = self.tokenizer.batch_encode_plus(\n",
    "            inputs, \n",
    "            add_special_tokens=True, \n",
    "            return_tensors='pt', \n",
    "            pad_to_max_length=True,\n",
    "            #max_length=self.T,\n",
    "            return_attention_masks=False\n",
    "        )['input_ids'].to(self.device)\n",
    "        #with torch.no_grad():\n",
    "        output = self.model(tokens)[0][:,0,:]\n",
    "        #output = torch.flatten(output, start_dim=1)\n",
    "        output = self.dropout(output)\n",
    "        output = self.linear(output)\n",
    "        return output\n",
    "    \n",
    "def scoring(device, model, criterion, iterator):\n",
    "    with torch.no_grad():\n",
    "        total_loss = []\n",
    "        total_accy = []\n",
    "        for x, y in iterator:\n",
    "            scores = model(x)\n",
    "            loss = criterion(scores, y.to(device).long())\n",
    "            total_loss.append(loss.item())\n",
    "            total_accy.append(Common.accuracy(scores, y, device))\n",
    "    return np.mean(total_loss), np.mean(total_accy)\n",
    "\n",
    "torch.manual_seed(0)\n",
    "torch.backends.cudnn.deterministic = True\n",
    "torch.backends.cudnn.benchmark = False\n",
    "np.random.seed(0)"
   ]
  },
  {
   "cell_type": "code",
   "execution_count": 8,
   "metadata": {},
   "outputs": [
    {
     "name": "stdout",
     "output_type": "stream",
     "text": [
      "num of params: 66515911\n",
      "Selected optimization level O2:  FP16 training with FP32 batchnorm and FP32 master weights.\n",
      "\n",
      "Defaults for this optimization level are:\n",
      "enabled                : True\n",
      "opt_level              : O2\n",
      "cast_model_type        : torch.float16\n",
      "patch_torch_functions  : False\n",
      "keep_batchnorm_fp32    : True\n",
      "master_weights         : True\n",
      "loss_scale             : dynamic\n",
      "Processing user overrides (additional kwargs that are not None)...\n",
      "After processing overrides, optimization options are:\n",
      "enabled                : True\n",
      "opt_level              : O2\n",
      "cast_model_type        : torch.float16\n",
      "patch_torch_functions  : False\n",
      "keep_batchnorm_fp32    : True\n",
      "master_weights         : True\n",
      "loss_scale             : dynamic\n"
     ]
    },
    {
     "data": {
      "application/vnd.jupyter.widget-view+json": {
       "model_id": "c715116fbc924c90bc8c78518293643d",
       "version_major": 2,
       "version_minor": 0
      },
      "text/plain": [
       "HBox(children=(FloatProgress(value=0.0, max=2631.0), HTML(value='')))"
      ]
     },
     "metadata": {},
     "output_type": "display_data"
    },
    {
     "name": "stdout",
     "output_type": "stream",
     "text": [
      "Gradient overflow.  Skipping step, loss scaler 0 reducing loss scale to 65536.0\n",
      "\n",
      "epoch: 0, train_loss: 1.5, valid_loss: 1.0, train_accy: 70.12%, valid_accy: 77.05%, time: 00:03:21\n"
     ]
    },
    {
     "data": {
      "application/vnd.jupyter.widget-view+json": {
       "model_id": "ad664b9cf57f4985bc4cce2efc6a92da",
       "version_major": 2,
       "version_minor": 0
      },
      "text/plain": [
       "HBox(children=(FloatProgress(value=0.0, max=2631.0), HTML(value='')))"
      ]
     },
     "metadata": {},
     "output_type": "display_data"
    },
    {
     "name": "stdout",
     "output_type": "stream",
     "text": [
      "Gradient overflow.  Skipping step, loss scaler 0 reducing loss scale to 32768.0\n",
      "\n",
      "epoch: 1, train_loss: 0.46, valid_loss: 0.92, train_accy: 88.98%, valid_accy: 77.77%, time: 00:03:20\n"
     ]
    },
    {
     "data": {
      "application/vnd.jupyter.widget-view+json": {
       "model_id": "15d955e17a2345c0abe70539c18f507b",
       "version_major": 2,
       "version_minor": 0
      },
      "text/plain": [
       "HBox(children=(FloatProgress(value=0.0, max=2631.0), HTML(value='')))"
      ]
     },
     "metadata": {},
     "output_type": "display_data"
    },
    {
     "name": "stdout",
     "output_type": "stream",
     "text": [
      "Gradient overflow.  Skipping step, loss scaler 0 reducing loss scale to 65536.0\n",
      "Gradient overflow.  Skipping step, loss scaler 0 reducing loss scale to 32768.0\n",
      "\n",
      "epoch: 2, train_loss: 0.25, valid_loss: 0.96, train_accy: 94.02%, valid_accy: 78.17%, time: 00:03:20\n"
     ]
    },
    {
     "data": {
      "application/vnd.jupyter.widget-view+json": {
       "model_id": "fdfb2d90af7a4b4e8531006b0862d6f7",
       "version_major": 2,
       "version_minor": 0
      },
      "text/plain": [
       "HBox(children=(FloatProgress(value=0.0, max=2631.0), HTML(value='')))"
      ]
     },
     "metadata": {},
     "output_type": "display_data"
    },
    {
     "name": "stdout",
     "output_type": "stream",
     "text": [
      "\n",
      "epoch: 3, train_loss: 0.12, valid_loss: 0.97, train_accy: 97.19%, valid_accy: 79.04%, time: 00:03:18\n"
     ]
    },
    {
     "data": {
      "application/vnd.jupyter.widget-view+json": {
       "model_id": "0541a4863a0e4cf8901a54b85053ce2e",
       "version_major": 2,
       "version_minor": 0
      },
      "text/plain": [
       "HBox(children=(FloatProgress(value=0.0, max=2631.0), HTML(value='')))"
      ]
     },
     "metadata": {},
     "output_type": "display_data"
    },
    {
     "name": "stdout",
     "output_type": "stream",
     "text": [
      "Gradient overflow.  Skipping step, loss scaler 0 reducing loss scale to 65536.0\n",
      "\n",
      "epoch: 4, train_loss: 0.062, valid_loss: 1.0, train_accy: 98.77%, valid_accy: 79.13%, time: 00:03:20\n"
     ]
    },
    {
     "data": {
      "application/vnd.jupyter.widget-view+json": {
       "model_id": "82e33f7e799d4d868b024236323a86b2",
       "version_major": 2,
       "version_minor": 0
      },
      "text/plain": [
       "HBox(children=(FloatProgress(value=0.0, max=2631.0), HTML(value='')))"
      ]
     },
     "metadata": {},
     "output_type": "display_data"
    },
    {
     "name": "stdout",
     "output_type": "stream",
     "text": [
      "Gradient overflow.  Skipping step, loss scaler 0 reducing loss scale to 65536.0\n",
      "\n",
      "epoch: 5, train_loss: 0.031, valid_loss: 1.1, train_accy: 99.46%, valid_accy: 78.94%, time: 00:03:18\n"
     ]
    },
    {
     "data": {
      "application/vnd.jupyter.widget-view+json": {
       "model_id": "d135f7b9a5ad446ba1502011c667ab9d",
       "version_major": 2,
       "version_minor": 0
      },
      "text/plain": [
       "HBox(children=(FloatProgress(value=0.0, max=2631.0), HTML(value='')))"
      ]
     },
     "metadata": {},
     "output_type": "display_data"
    },
    {
     "name": "stdout",
     "output_type": "stream",
     "text": [
      "Gradient overflow.  Skipping step, loss scaler 0 reducing loss scale to 65536.0\n",
      "\n",
      "epoch: 6, train_loss: 0.017, valid_loss: 1.1, train_accy: 99.73%, valid_accy: 78.90%, time: 00:03:18\n"
     ]
    },
    {
     "data": {
      "application/vnd.jupyter.widget-view+json": {
       "model_id": "625073ee69ed449fb6842d5d99b026cf",
       "version_major": 2,
       "version_minor": 0
      },
      "text/plain": [
       "HBox(children=(FloatProgress(value=0.0, max=2631.0), HTML(value='')))"
      ]
     },
     "metadata": {},
     "output_type": "display_data"
    },
    {
     "name": "stdout",
     "output_type": "stream",
     "text": [
      "Gradient overflow.  Skipping step, loss scaler 0 reducing loss scale to 65536.0\n",
      "Gradient overflow.  Skipping step, loss scaler 0 reducing loss scale to 65536.0\n",
      "\n",
      "epoch: 7, train_loss: 0.01, valid_loss: 1.1, train_accy: 99.85%, valid_accy: 79.20%, time: 00:03:18\n"
     ]
    },
    {
     "data": {
      "application/vnd.jupyter.widget-view+json": {
       "model_id": "9f26701bd0d94091984ad9e01b45842e",
       "version_major": 2,
       "version_minor": 0
      },
      "text/plain": [
       "HBox(children=(FloatProgress(value=0.0, max=2631.0), HTML(value='')))"
      ]
     },
     "metadata": {},
     "output_type": "display_data"
    },
    {
     "name": "stdout",
     "output_type": "stream",
     "text": [
      "\n",
      "epoch: 8, train_loss: 0.0058, valid_loss: 1.2, train_accy: 99.92%, valid_accy: 79.00%, time: 00:03:19\n"
     ]
    },
    {
     "data": {
      "application/vnd.jupyter.widget-view+json": {
       "model_id": "abd9443847c9408c880185a16882d240",
       "version_major": 2,
       "version_minor": 0
      },
      "text/plain": [
       "HBox(children=(FloatProgress(value=0.0, max=2631.0), HTML(value='')))"
      ]
     },
     "metadata": {},
     "output_type": "display_data"
    },
    {
     "name": "stdout",
     "output_type": "stream",
     "text": [
      "Gradient overflow.  Skipping step, loss scaler 0 reducing loss scale to 65536.0\n",
      "\n",
      "epoch: 9, train_loss: 0.004, valid_loss: 1.2, train_accy: 99.94%, valid_accy: 79.20%, time: 00:03:19\n"
     ]
    }
   ],
   "source": [
    "lr = 2e-5 #[2e-5, 3e-5, 4e-5, 5e-5]:\n",
    "\n",
    "device = Common.device()\n",
    "# \n",
    "L = 0\n",
    "model = Model('distilbert-base-uncased', T, Y, device, L).to(device)\n",
    "num_params = sum(p.numel() for p in model.parameters() if p.requires_grad)\n",
    "print('num of params: {}'.format(num_params))\n",
    "\n",
    "optimizer = AdamW(model.parameters(),\n",
    "    lr = lr, # args.learning_rate - default is 5e-5, our notebook had 2e-5\n",
    "    eps = 1e-8, # args.adam_epsilon  - default is 1e-8.\n",
    "    weight_decay = 0.01\n",
    ")\n",
    "\n",
    "opt_level = 'O2'\n",
    "model, optimizer = amp.initialize(model, optimizer, opt_level=opt_level)\n",
    "\n",
    "criterion = Common.criterion()\n",
    "#criterion = FocalLoss(device)\n",
    "\n",
    "# Create the learning rate scheduler.\n",
    "scheduler = get_linear_schedule_with_warmup(\n",
    "    optimizer, \n",
    "    num_warmup_steps = 1, # Default value in run_glue.py\n",
    "    num_training_steps = len(itrain) * E)\n",
    "\n",
    "#schedular = CosineAnnealingLR(optimizer, T_max=2)\n",
    "\n",
    "seed_val = 0\n",
    "\n",
    "random.seed(seed_val)\n",
    "np.random.seed(seed_val)\n",
    "torch.manual_seed(seed_val)\n",
    "torch.cuda.manual_seed_all(seed_val)\n",
    "\n",
    "best_loss = 999\n",
    "best_model = None\n",
    "best_epoch = 0\n",
    "\n",
    "for epoch in range(E):\n",
    "    t = Timer()\n",
    "    total_loss = []\n",
    "    total_accy = []\n",
    "    for x, y in tqdm(itrain):\n",
    "\n",
    "        # step 1. Remember that Pytorch accumulates gradients.\n",
    "        # We need to clear them out before each instance\n",
    "        model.zero_grad()\n",
    "\n",
    "        # step 3. Run our forward pass.\n",
    "        scores = model(x)\n",
    "\n",
    "        # step 4. Compute the loss, gradients, and update the parameters by\n",
    "        #  calling optimizer.step()\n",
    "        loss = criterion(scores, y.to(device).long())\n",
    "        total_loss.append(loss.item())\n",
    "        #total_accy.append(sum(torch.argmax(scores, axis=1) == y.to(device)).true_divide(len(y)).item())\n",
    "        total_accy.append(Common.accuracy(scores, y, device))\n",
    "\n",
    "        with amp.scale_loss(loss, optimizer) as scaled_loss:\n",
    "            scaled_loss.backward()\n",
    "            \n",
    "        #loss.backward()\n",
    "        nn.utils.clip_grad_norm_(model.parameters(), 1.0)\n",
    "\n",
    "        optimizer.step()\n",
    "        scheduler.step()\n",
    "\n",
    "    train_loss, train_accy = np.mean(total_loss), np.mean(total_accy)\n",
    "    valid_loss, valid_accy = scoring(device, model, criterion, ivalid)\n",
    "\n",
    "    if valid_loss < best_loss:\n",
    "        Common.save_checkpoint({\n",
    "            'loss': valid_loss,\n",
    "            'accuracy': valid_accy,\n",
    "            'state_dict': model.state_dict(),\n",
    "            'optimizer': optimizer.state_dict(),\n",
    "        }, './models/model.tar')\n",
    "        best_model = model\n",
    "        best_epoch = epoch\n",
    "        best_loss = valid_loss\n",
    "\n",
    "    print(', '.join([\n",
    "        'epoch: {}'.format(epoch),\n",
    "        'train_loss: {:3.2}'.format(train_loss),\n",
    "        'valid_loss: {:3.2}'.format(valid_loss),\n",
    "        'train_accy: {:3.2%}'.format(train_accy),\n",
    "        'valid_accy: {:3.2%}'.format(valid_accy),\n",
    "        'time: {}'.format(t.get())\n",
    "    ]))\n",
    "\n",
    "# test_loss, test_accy = scoring(device, best_model, criterion, itest)\n",
    "# Log.info(', '.join([\n",
    "#         'best_epoch: {}'.format(best_epoch),\n",
    "#         'test_loss: {:3.2}'.format(test_loss),\n",
    "#         'test_accy: {:3.2}'.format(test_accy)\n",
    "#     ]))"
   ]
  },
  {
   "cell_type": "code",
   "execution_count": null,
   "metadata": {},
   "outputs": [],
   "source": [
    "model = 'distilbert-base-uncased'\n",
    "tokenizer = AutoTokenizer.from_pretrained(model, do_lower_case=True)\n",
    "model = AutoModel.from_pretrained(model)"
   ]
  },
  {
   "cell_type": "code",
   "execution_count": null,
   "metadata": {},
   "outputs": [],
   "source": [
    "device = torch.device('cpu')\n",
    "cp = torch.load('./models/model.tar', map_location=device)\n",
    "model = Model('distilbert-base-uncased', T, Y, device, L).to(device)\n",
    "optimizer = AdamW(model.parameters(),\n",
    "    lr = 2e-5, # args.learning_rate - default is 5e-5, our notebook had 2e-5\n",
    "    eps = 1e-8 # args.adam_epsilon  - default is 1e-8.\n",
    ")\n",
    "#criterion = FocalLoss(device)\n",
    "criterion = Common.criterion()\n",
    "#qmodel = torch.quantization.quantize_dynamic(model, {torch.nn.Linear}, dtype=torch.qint8)\n",
    "model.load_state_dict(cp['state_dict'])\n",
    "optimizer.load_state_dict(cp['optimizer'])\n",
    "\n",
    "#torch.set_num_threads(1)"
   ]
  },
  {
   "cell_type": "code",
   "execution_count": null,
   "metadata": {},
   "outputs": [],
   "source": [
    "import datetime\n",
    "\n",
    "total = []\n",
    "_start = datetime.datetime.now()\n",
    "for i, x in enumerate(valid_df['utterance'].values):\n",
    "    start = datetime.datetime.now()\n",
    "    with torch.no_grad():\n",
    "        scores = model([x])\n",
    "    delta = datetime.datetime.now() - start\n",
    "    total.append(delta.total_seconds() * 1000)\n",
    "    if i % 500 == 0 and i > 0:\n",
    "        print((datetime.datetime.now() - _start).total_seconds())\n",
    "        _start = datetime.datetime.now()"
   ]
  },
  {
   "cell_type": "code",
   "execution_count": null,
   "metadata": {},
   "outputs": [],
   "source": [
    "np.mean(total)"
   ]
  },
  {
   "cell_type": "code",
   "execution_count": null,
   "metadata": {},
   "outputs": [],
   "source": [
    "x = valid_df['utterance'].str.split().map(len).values\n",
    "y = np.array(total)\n",
    "\n",
    "sns.set(color_codes=True)\n",
    "ax = sns.regplot(x, y, marker='+', color='b')\n",
    "ax.set(xlabel='# of tokens', ylabel='elapsed time (millisecond)')\n",
    "\n",
    "import scipy\n",
    "slope, intercept, r2, p_value, std_err = scipy.stats.linregress(x=x, y=y)\n",
    "print(f'line-fit: y = {round(intercept, 2)} + {round(slope, 2)} x')\n",
    "print(f'r2: {round(r2 ** 2, 2)}')"
   ]
  },
  {
   "cell_type": "code",
   "execution_count": null,
   "metadata": {},
   "outputs": [],
   "source": [
    "tokenizer = DistilBertTokenizer.from_pretrained('distilbert-base-uncased')\n",
    "#model = DistilBertModel.from_pretrained('distilbert-base-uncased')"
   ]
  },
  {
   "cell_type": "code",
   "execution_count": null,
   "metadata": {},
   "outputs": [],
   "source": [
    "tokenizer.vocab_size"
   ]
  },
  {
   "cell_type": "code",
   "execution_count": null,
   "metadata": {},
   "outputs": [],
   "source": [
    "tokenizer.convert_ids_to_tokens(tokenizer.encode('my cat ate my card.'))"
   ]
  },
  {
   "cell_type": "code",
   "execution_count": null,
   "metadata": {},
   "outputs": [],
   "source": [
    "inputs = [\n",
    "    'change of address but not effective till 9 / 22',\n",
    "    'my cat sucks really bad',\n",
    "    'my day is going well',\n",
    "    'Here is the sentence I want embeddings for.'\n",
    "]\n",
    "tokens = tokenizer.batch_encode_plus(\n",
    "    inputs, \n",
    "    add_special_tokens=True, \n",
    "    return_tensors='pt', \n",
    "    pad_to_max_length=True,\n",
    "    max_length=50,\n",
    "    return_attention_masks=False\n",
    ")\n",
    "\n",
    "print(tokens)\n",
    "\n",
    "#for token in tokens:\n",
    "#    print(tokenizer.convert_ids_to_tokens(token))\n",
    "# tokens = []\n",
    "# for x in inputs:\n",
    "#     tokens.append(torch.tensor(tokenizer.encode(x, add_special_tokens=True, max_length=T, pad_to_max_length=True)))\n",
    "    \n",
    "# tokens = torch.stack(tokens).to(device)\n",
    "# _, output = model(**tokens)\n",
    "#output = torch.flatten(output, start_dim=1)"
   ]
  }
 ],
 "metadata": {
  "kernelspec": {
   "display_name": "Python 3",
   "language": "python",
   "name": "python3"
  },
  "language_info": {
   "codemirror_mode": {
    "name": "ipython",
    "version": 3
   },
   "file_extension": ".py",
   "mimetype": "text/x-python",
   "name": "python",
   "nbconvert_exporter": "python",
   "pygments_lexer": "ipython3",
   "version": "3.7.4"
  }
 },
 "nbformat": 4,
 "nbformat_minor": 4
}
