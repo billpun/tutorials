{
 "cells": [
  {
   "cell_type": "code",
   "execution_count": 1,
   "metadata": {},
   "outputs": [],
   "source": [
    "import os\n",
    "import numpy as np\n",
    "import pandas as pd\n",
    "import torch\n",
    "import torch.nn as nn\n",
    "from torch.optim.lr_scheduler import CosineAnnealingLR\n",
    "import multiprocessing\n",
    "from transformers import DistilBertTokenizer, DistilBertModel, AdamW, get_linear_schedule_with_warmup, get_cosine_with_hard_restarts_schedule_with_warmup\n",
    "from tqdm.notebook import tqdm\n",
    "from common import Common, Timer\n",
    "from sklearn.preprocessing import LabelEncoder\n",
    "import seaborn as sns\n",
    "import matplotlib.pyplot as plt\n",
    "from matplotlib.ticker import PercentFormatter\n",
    "import random"
   ]
  },
  {
   "cell_type": "code",
   "execution_count": 10,
   "metadata": {},
   "outputs": [],
   "source": [
    "PATH = 'C:/Users/bill/Documents/projects/data/chatbot'\n",
    "MAX_WORKERS = multiprocessing.cpu_count() - 1\n",
    "B = 32\n",
    "E = 10\n",
    "T = 500\n",
    "Y = 199"
   ]
  },
  {
   "cell_type": "code",
   "execution_count": 3,
   "metadata": {},
   "outputs": [],
   "source": [
    "train_df = pd.read_csv(os.path.join(PATH, 'train.tsv'), sep='\\t')[['utterance', 'intent']].dropna().reset_index(drop=True)\n",
    "valid_df = pd.read_csv(os.path.join(PATH, 'valid.tsv'), sep='\\t')[['utterance', 'intent']].dropna().reset_index(drop=True)\n",
    "\n",
    "intents = LabelEncoder()\n",
    "intents.fit(pd.concat([ train_df['intent'], valid_df['intent'] ]))\n",
    "train_df['intent'] = intents.transform(train_df['intent'])\n",
    "valid_df['intent'] = intents.transform(valid_df['intent'])\n",
    "\n",
    "# to ensure that BERT will run without problem on sequence length\n",
    "train_df['utterance'] = train_df['utterance'].apply(lambda x : x[:T])\n",
    "test_df['utterance'] = test_df['utterance'].apply(lambda x : x[:T])\n",
    "    \n",
    "itrain = Common.generator(train_df['utterance'], train_df['intent'], B)\n",
    "ivalid = Common.generator(valid_df['utterance'], valid_df['intent'], B)"
   ]
  },
  {
   "cell_type": "code",
   "execution_count": 4,
   "metadata": {},
   "outputs": [
    {
     "data": {
      "image/png": "[encoded data removed]",
      "text/plain": [
       "<Figure size 432x288 with 1 Axes>"
      ]
     },
     "metadata": {
      "needs_background": "light"
     },
     "output_type": "display_data"
    }
   ],
   "source": [
    "x = pd.concat([train_df['utterance'], valid_df['utterance']])\n",
    "ax = sns.distplot(x.str.split().apply(len))\n",
    "ax.set(xlabel='Title Length', ylabel='Distribution')\n",
    "ax.set_yticklabels(['{:,.0%}'.format(y) for y in ax.get_yticks()])\n",
    "plt.show()"
   ]
  },
  {
   "cell_type": "code",
   "execution_count": 7,
   "metadata": {},
   "outputs": [],
   "source": [
    "class Model(nn.Module):\n",
    "    \n",
    "    #model = 'distilbert-base-cased'\n",
    "    def __init__(self, model, T, Y):\n",
    "        super(Model, self).__init__()\n",
    "        self.T = T\n",
    "        self.tokenizer = DistilBertTokenizer.from_pretrained(model, do_lower_case=True)\n",
    "        self.model = DistilBertModel.from_pretrained(model)\n",
    "        self.linear = nn.Linear(768, Y)\n",
    "        self.dropout = nn.Dropout(0.2)\n",
    "        \n",
    "    def forward(self, inputs, device):\n",
    "        tokens = self.tokenizer.batch_encode_plus(\n",
    "            inputs, \n",
    "            add_special_tokens=True, \n",
    "            return_tensors='pt', \n",
    "            pad_to_max_length=True,\n",
    "            #max_length=self.T,\n",
    "            return_attention_masks=False\n",
    "        )['input_ids'].to(device)\n",
    "        #with torch.no_grad():\n",
    "        output = self.model(tokens)[0][:,0,:]\n",
    "        #output = torch.flatten(output, start_dim=1)\n",
    "        output = self.dropout(output)\n",
    "        output = self.linear(output)\n",
    "        return output\n",
    "    \n",
    "def scoring(device, model, criterion, iterator):\n",
    "    with torch.no_grad():\n",
    "        total_loss = []\n",
    "        total_accy = []\n",
    "        for x, y in iterator:\n",
    "            scores = model(x, device)\n",
    "            loss = criterion(scores, y.to(device).long())\n",
    "            total_loss.append(loss.item())\n",
    "            total_accy.append(Common.accuracy(scores, y, device))\n",
    "    return np.mean(total_loss), np.mean(total_accy)"
   ]
  },
  {
   "cell_type": "code",
   "execution_count": 8,
   "metadata": {},
   "outputs": [
    {
     "data": {
      "application/vnd.jupyter.widget-view+json": {
       "model_id": "c1e0f42e0e484b0bbecf94536f2a6f1b",
       "version_major": 2,
       "version_minor": 0
      },
      "text/plain": [
       "HBox(children=(FloatProgress(value=0.0, max=2631.0), HTML(value='')))"
      ]
     },
     "metadata": {},
     "output_type": "display_data"
    },
    {
     "name": "stdout",
     "output_type": "stream",
     "text": [
      "\n",
      "epoch: 0, train_loss: 1.3, valid_loss: 1.0, train_accy: 72.49%, valid_accy: 77.64%, time: 00:04:34\n"
     ]
    },
    {
     "data": {
      "application/vnd.jupyter.widget-view+json": {
       "model_id": "5304925b4f344d468bca2f1b449de546",
       "version_major": 2,
       "version_minor": 0
      },
      "text/plain": [
       "HBox(children=(FloatProgress(value=0.0, max=2631.0), HTML(value='')))"
      ]
     },
     "metadata": {},
     "output_type": "display_data"
    },
    {
     "name": "stdout",
     "output_type": "stream",
     "text": [
      "\n",
      "epoch: 1, train_loss: 0.39, valid_loss: 0.94, train_accy: 90.30%, valid_accy: 78.90%, time: 00:04:34\n"
     ]
    },
    {
     "data": {
      "application/vnd.jupyter.widget-view+json": {
       "model_id": "635f885c9fca48c88e668675dcd0b308",
       "version_major": 2,
       "version_minor": 0
      },
      "text/plain": [
       "HBox(children=(FloatProgress(value=0.0, max=2631.0), HTML(value='')))"
      ]
     },
     "metadata": {},
     "output_type": "display_data"
    },
    {
     "name": "stdout",
     "output_type": "stream",
     "text": [
      "\n",
      "epoch: 2, train_loss: 0.18, valid_loss: 0.99, train_accy: 95.26%, valid_accy: 78.89%, time: 00:04:33\n"
     ]
    },
    {
     "data": {
      "application/vnd.jupyter.widget-view+json": {
       "model_id": "2f30c482f7b743cebb8f5be54abb4921",
       "version_major": 2,
       "version_minor": 0
      },
      "text/plain": [
       "HBox(children=(FloatProgress(value=0.0, max=2631.0), HTML(value='')))"
      ]
     },
     "metadata": {},
     "output_type": "display_data"
    },
    {
     "name": "stdout",
     "output_type": "stream",
     "text": [
      "\n",
      "epoch: 3, train_loss: 0.081, valid_loss: 1.1, train_accy: 97.90%, valid_accy: 79.55%, time: 00:04:32\n"
     ]
    },
    {
     "data": {
      "application/vnd.jupyter.widget-view+json": {
       "model_id": "36f972d640ab440a80a33ddb0480226d",
       "version_major": 2,
       "version_minor": 0
      },
      "text/plain": [
       "HBox(children=(FloatProgress(value=0.0, max=2631.0), HTML(value='')))"
      ]
     },
     "metadata": {},
     "output_type": "display_data"
    },
    {
     "name": "stdout",
     "output_type": "stream",
     "text": [
      "\n",
      "epoch: 4, train_loss: 0.035, valid_loss: 1.3, train_accy: 99.08%, valid_accy: 78.24%, time: 00:04:29\n"
     ]
    },
    {
     "data": {
      "application/vnd.jupyter.widget-view+json": {
       "model_id": "ca97566db6724774acc7f12d9f6babba",
       "version_major": 2,
       "version_minor": 0
      },
      "text/plain": [
       "HBox(children=(FloatProgress(value=0.0, max=2631.0), HTML(value='')))"
      ]
     },
     "metadata": {},
     "output_type": "display_data"
    },
    {
     "name": "stdout",
     "output_type": "stream",
     "text": [
      "\n",
      "epoch: 5, train_loss: 0.015, valid_loss: 1.3, train_accy: 99.64%, valid_accy: 79.10%, time: 00:04:25\n"
     ]
    },
    {
     "data": {
      "application/vnd.jupyter.widget-view+json": {
       "model_id": "c553de010d9848bf885a0caaa8012e30",
       "version_major": 2,
       "version_minor": 0
      },
      "text/plain": [
       "HBox(children=(FloatProgress(value=0.0, max=2631.0), HTML(value='')))"
      ]
     },
     "metadata": {},
     "output_type": "display_data"
    },
    {
     "name": "stdout",
     "output_type": "stream",
     "text": [
      "\n",
      "epoch: 6, train_loss: 0.0096, valid_loss: 1.4, train_accy: 99.76%, valid_accy: 79.25%, time: 00:04:23\n"
     ]
    },
    {
     "data": {
      "application/vnd.jupyter.widget-view+json": {
       "model_id": "10adb71ebb9d4c6fb975ecfe6cdcb819",
       "version_major": 2,
       "version_minor": 0
      },
      "text/plain": [
       "HBox(children=(FloatProgress(value=0.0, max=2631.0), HTML(value='')))"
      ]
     },
     "metadata": {},
     "output_type": "display_data"
    },
    {
     "name": "stdout",
     "output_type": "stream",
     "text": [
      "\n",
      "epoch: 7, train_loss: 0.0053, valid_loss: 1.4, train_accy: 99.88%, valid_accy: 78.87%, time: 00:04:22\n"
     ]
    },
    {
     "data": {
      "application/vnd.jupyter.widget-view+json": {
       "model_id": "6baf6c9bd14b4aec9429e0c882fa4b17",
       "version_major": 2,
       "version_minor": 0
      },
      "text/plain": [
       "HBox(children=(FloatProgress(value=0.0, max=2631.0), HTML(value='')))"
      ]
     },
     "metadata": {},
     "output_type": "display_data"
    },
    {
     "name": "stdout",
     "output_type": "stream",
     "text": [
      "\n",
      "epoch: 8, train_loss: 0.0036, valid_loss: 1.4, train_accy: 99.92%, valid_accy: 79.39%, time: 00:04:23\n"
     ]
    },
    {
     "data": {
      "application/vnd.jupyter.widget-view+json": {
       "model_id": "c7548bfc33f14f01919aec0453afc86e",
       "version_major": 2,
       "version_minor": 0
      },
      "text/plain": [
       "HBox(children=(FloatProgress(value=0.0, max=2631.0), HTML(value='')))"
      ]
     },
     "metadata": {},
     "output_type": "display_data"
    },
    {
     "name": "stdout",
     "output_type": "stream",
     "text": [
      "\n",
      "epoch: 9, train_loss: 0.0016, valid_loss: 1.5, train_accy: 99.95%, valid_accy: 79.47%, time: 00:04:23\n"
     ]
    }
   ],
   "source": [
    "device = Common.device()\n",
    "model = Model('distilbert-base-uncased', T, Y).to(device)\n",
    "optimizer = AdamW(model.parameters(),\n",
    "    lr = 3e-5, # args.learning_rate - default is 5e-5, our notebook had 2e-5\n",
    "    eps = 1e-8 # args.adam_epsilon  - default is 1e-8.\n",
    ")\n",
    "criterion = Common.criterion()\n",
    "\n",
    "# Create the learning rate scheduler.\n",
    "scheduler = get_linear_schedule_with_warmup(\n",
    "    optimizer, \n",
    "    num_warmup_steps = 1, # Default value in run_glue.py\n",
    "    num_training_steps = len(itrain) * E)\n",
    "\n",
    "#schedular = CosineAnnealingLR(optimizer, T_max=2)\n",
    "\n",
    "seed_val = 0\n",
    "\n",
    "random.seed(seed_val)\n",
    "np.random.seed(seed_val)\n",
    "torch.manual_seed(seed_val)\n",
    "torch.cuda.manual_seed_all(seed_val)\n",
    "\n",
    "# best_loss = 999\n",
    "# best_model = None\n",
    "# best_epoch = 0\n",
    "\n",
    "for epoch in range(E):\n",
    "    t = Timer()\n",
    "    total_loss = []\n",
    "    total_accy = []\n",
    "    for x, y in tqdm(itrain):\n",
    "        \n",
    "        # step 1. Remember that Pytorch accumulates gradients.\n",
    "        # We need to clear them out before each instance\n",
    "        model.zero_grad()\n",
    "\n",
    "        # step 3. Run our forward pass.\n",
    "        scores = model(x, device)\n",
    "\n",
    "        # step 4. Compute the loss, gradients, and update the parameters by\n",
    "        #  calling optimizer.step()\n",
    "        loss = criterion(scores, y.to(device).long())\n",
    "        total_loss.append(loss.item())\n",
    "        #total_accy.append(sum(torch.argmax(scores, axis=1) == y.to(device)).true_divide(len(y)).item())\n",
    "        total_accy.append(Common.accuracy(scores, y, device))\n",
    "\n",
    "        loss.backward()\n",
    "        nn.utils.clip_grad_norm_(model.parameters(), 1.0)\n",
    "        \n",
    "        optimizer.step()\n",
    "        scheduler.step()\n",
    "        \n",
    "    train_loss, train_accy = np.mean(total_loss), np.mean(total_accy)\n",
    "    valid_loss, valid_accy = scoring(device, model, criterion, ivalid)\n",
    "\n",
    "#     if valid_loss < best_loss:\n",
    "#         Common.save_checkpoint({\n",
    "#             'loss': valid_loss,\n",
    "#             'accuracy': valid_accy,\n",
    "#             'state_dict': model.state_dict(),\n",
    "#             'optimizer': optimizer.state_dict(),\n",
    "#         }, './models/model.tar')\n",
    "#         best_model = model\n",
    "#         best_epoch = epoch\n",
    "#         best_loss = valid_loss\n",
    "\n",
    "    print(', '.join([\n",
    "        'epoch: {}'.format(epoch),\n",
    "        'train_loss: {:3.2}'.format(train_loss),\n",
    "        'valid_loss: {:3.2}'.format(valid_loss),\n",
    "        'train_accy: {:3.2%}'.format(train_accy),\n",
    "        'valid_accy: {:3.2%}'.format(valid_accy),\n",
    "        'time: {}'.format(t.get())\n",
    "    ]))\n",
    "\n",
    "# test_loss, test_accy = scoring(device, best_model, criterion, itest)\n",
    "# Log.info(', '.join([\n",
    "#         'best_epoch: {}'.format(best_epoch),\n",
    "#         'test_loss: {:3.2}'.format(test_loss),\n",
    "#         'test_accy: {:3.2}'.format(test_accy)\n",
    "#     ]))"
   ]
  },
  {
   "cell_type": "code",
   "execution_count": null,
   "metadata": {},
   "outputs": [],
   "source": [
    "tokenizer = DistilBertTokenizer.from_pretrained('distilbert-base-uncased')\n",
    "model = DistilBertModel.from_pretrained('distilbert-base-uncased')"
   ]
  },
  {
   "cell_type": "code",
   "execution_count": 4,
   "metadata": {},
   "outputs": [
    {
     "name": "stdout",
     "output_type": "stream",
     "text": [
      "{'input_ids': tensor([[  101,  2689,  1997,  4769,  2021,  2025,  4621,  6229,  1023,  1013,\n",
      "          2570,   102,     0,     0,     0,     0,     0,     0,     0,     0,\n",
      "             0,     0,     0,     0,     0,     0,     0,     0,     0,     0,\n",
      "             0,     0,     0,     0,     0,     0,     0,     0,     0,     0,\n",
      "             0,     0,     0,     0,     0,     0,     0,     0,     0,     0],\n",
      "        [  101,  2026,  4937, 19237,  2428,  2919,   102,     0,     0,     0,\n",
      "             0,     0,     0,     0,     0,     0,     0,     0,     0,     0,\n",
      "             0,     0,     0,     0,     0,     0,     0,     0,     0,     0,\n",
      "             0,     0,     0,     0,     0,     0,     0,     0,     0,     0,\n",
      "             0,     0,     0,     0,     0,     0,     0,     0,     0,     0],\n",
      "        [  101,  2026,  2154,  2003,  2183,  2092,   102,     0,     0,     0,\n",
      "             0,     0,     0,     0,     0,     0,     0,     0,     0,     0,\n",
      "             0,     0,     0,     0,     0,     0,     0,     0,     0,     0,\n",
      "             0,     0,     0,     0,     0,     0,     0,     0,     0,     0,\n",
      "             0,     0,     0,     0,     0,     0,     0,     0,     0,     0],\n",
      "        [  101,  2182,  2003,  1996,  6251,  1045,  2215,  7861,  8270,  4667,\n",
      "          2015,  2005,  1012,   102,     0,     0,     0,     0,     0,     0,\n",
      "             0,     0,     0,     0,     0,     0,     0,     0,     0,     0,\n",
      "             0,     0,     0,     0,     0,     0,     0,     0,     0,     0,\n",
      "             0,     0,     0,     0,     0,     0,     0,     0,     0,     0]])}\n"
     ]
    }
   ],
   "source": [
    "inputs = [\n",
    "    'change of address but not effective till 9 / 22',\n",
    "    'my cat sucks really bad',\n",
    "    'my day is going well',\n",
    "    'Here is the sentence I want embeddings for.'\n",
    "]\n",
    "tokens = tokenizer.batch_encode_plus(\n",
    "    inputs, \n",
    "    add_special_tokens=True, \n",
    "    return_tensors='pt', \n",
    "    pad_to_max_length=True,\n",
    "    max_length=50,\n",
    "    return_attention_masks=False\n",
    ")\n",
    "\n",
    "print(tokens)\n",
    "\n",
    "#for token in tokens:\n",
    "#    print(tokenizer.convert_ids_to_tokens(token))\n",
    "# tokens = []\n",
    "# for x in inputs:\n",
    "#     tokens.append(torch.tensor(tokenizer.encode(x, add_special_tokens=True, max_length=T, pad_to_max_length=True)))\n",
    "    \n",
    "# tokens = torch.stack(tokens).to(device)\n",
    "# _, output = model(**tokens)\n",
    "#output = torch.flatten(output, start_dim=1)"
   ]
  }
 ],
 "metadata": {
  "kernelspec": {
   "display_name": "Python 3",
   "language": "python",
   "name": "python3"
  },
  "language_info": {
   "codemirror_mode": {
    "name": "ipython",
    "version": 3
   },
   "file_extension": ".py",
   "mimetype": "text/x-python",
   "name": "python",
   "nbconvert_exporter": "python",
   "pygments_lexer": "ipython3",
   "version": "3.7.4"
  }
 },
 "nbformat": 4,
 "nbformat_minor": 4
}
