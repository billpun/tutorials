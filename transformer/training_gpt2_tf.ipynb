{
 "cells": [
  {
   "cell_type": "markdown",
   "metadata": {
    "colab_type": "text",
    "id": "H7LoMj4GA4n_"
   },
   "source": [
    "#  Train a GPT-2 Text-Generating Model w/ GPU For Free \n",
    "\n",
    "by [Max Woolf](http://minimaxir.com)\n",
    "\n",
    "*Last updated: November 10th, 2019*\n",
    "\n",
    "Retrain an advanced text generating neural network on any text dataset **for free on a GPU using Collaboratory** using `gpt-2-simple`!\n",
    "\n",
    "For more about `gpt-2-simple`, you can visit [this GitHub repository](https://github.com/minimaxir/gpt-2-simple). You can also read my [blog post](https://minimaxir.com/2019/09/howto-gpt2/) for more information how to use this notebook!\n",
    "\n",
    "\n",
    "To get started:\n",
    "\n",
    "1. Copy this notebook to your Google Drive to keep it and save your changes. (File -> Save a Copy in Drive)\n",
    "2. Make sure you're running the notebook in Google Chrome.\n",
    "3. Run the cells below:\n"
   ]
  },
  {
   "cell_type": "code",
   "execution_count": 4,
   "metadata": {
    "colab": {},
    "colab_type": "code",
    "id": "KBkpRgBCBS2_"
   },
   "outputs": [],
   "source": [
    "# tensorflow_version 1.x\n",
    "!pip install -q gpt-2-simple\n",
    "import gpt_2_simple as gpt2\n",
    "from datetime import datetime\n",
    "#from google.colab import files"
   ]
  },
  {
   "cell_type": "markdown",
   "metadata": {
    "colab_type": "text",
    "id": "Bj2IJLHP3KwE"
   },
   "source": [
    "## GPU\n",
    "\n",
    "Colaboratory uses either a Nvidia T4 GPU or an Nvidia K80 GPU. The T4 is slightly faster than the old K80 for training GPT-2, and has more memory allowing you to train the larger GPT-2 models and generate more text.\n",
    "\n",
    "You can verify which GPU is active by running the cell below."
   ]
  },
  {
   "cell_type": "code",
   "execution_count": 5,
   "metadata": {
    "colab": {
     "base_uri": "https://localhost:8080/",
     "height": 311
    },
    "colab_type": "code",
    "id": "sUmTooTW3osf",
    "outputId": "8a98e8b7-56c3-4fa5-a09f-d81dd9782695"
   },
   "outputs": [
    {
     "name": "stdout",
     "output_type": "stream",
     "text": [
      "Thu Jun 04 13:19:33 2020       \n",
      "+-----------------------------------------------------------------------------+\n",
      "| NVIDIA-SMI 442.19       Driver Version: 442.19       CUDA Version: 10.2     |\n",
      "|-------------------------------+----------------------+----------------------+\n",
      "| GPU  Name            TCC/WDDM | Bus-Id        Disp.A | Volatile Uncorr. ECC |\n",
      "| Fan  Temp  Perf  Pwr:Usage/Cap|         Memory-Usage | GPU-Util  Compute M. |\n",
      "|===============================+======================+======================|\n",
      "|   0  GeForce RTX 207... WDDM  | 00000000:09:00.0  On |                  N/A |\n",
      "| 41%   33C    P8    11W / 215W |    724MiB /  8192MiB |      1%      Default |\n",
      "+-------------------------------+----------------------+----------------------+\n",
      "                                                                               \n",
      "+-----------------------------------------------------------------------------+\n",
      "| Processes:                                                       GPU Memory |\n",
      "|  GPU       PID   Type   Process name                             Usage      |\n",
      "|=============================================================================|\n",
      "|    0      1244    C+G   ...6)\\Google\\Chrome\\Application\\chrome.exe N/A      |\n",
      "|    0      1248    C+G   Insufficient Permissions                   N/A      |\n",
      "|    0      1368    C+G   Insufficient Permissions                   N/A      |\n",
      "|    0      1848    C+G   ...x64__8wekyb3d8bbwe\\Microsoft.Photos.exe N/A      |\n",
      "|    0      2264    C+G   C:\\Windows\\explorer.exe                    N/A      |\n",
      "|    0      7348    C+G   ...1.91.0_x64__8wekyb3d8bbwe\\YourPhone.exe N/A      |\n",
      "|    0      7680    C+G   ...mmersiveControlPanel\\SystemSettings.exe N/A      |\n",
      "|    0      8732    C+G   ...5n1h2txyewy\\StartMenuExperienceHost.exe N/A      |\n",
      "|    0      9056    C+G   ...\\Corsair\\CORSAIR iCUE Software\\iCUE.exe N/A      |\n",
      "|    0      9072    C+G   ... Files (x86)\\Dropbox\\Client\\Dropbox.exe N/A      |\n",
      "|    0      9324    C+G   ...dows.Cortana_cw5n1h2txyewy\\SearchUI.exe N/A      |\n",
      "|    0     11488    C+G   ...1.0_x64__8wekyb3d8bbwe\\WinStore.App.exe N/A      |\n",
      "|    0     12068    C+G   ...t_cw5n1h2txyewy\\ShellExperienceHost.exe N/A      |\n",
      "|    0     13668    C+G   ...hell.Experiences.TextInput.InputApp.exe N/A      |\n",
      "+-----------------------------------------------------------------------------+\n"
     ]
    }
   ],
   "source": [
    "!nvidia-smi"
   ]
  },
  {
   "cell_type": "markdown",
   "metadata": {
    "colab_type": "text",
    "id": "0wXB05bPDYxS"
   },
   "source": [
    "## Downloading GPT-2\n",
    "\n",
    "If you're retraining a model on new text, you need to download the GPT-2 model first. \n",
    "\n",
    "There are three released sizes of GPT-2:\n",
    "\n",
    "* `124M` (default): the \"small\" model, 500MB on disk.\n",
    "* `355M`: the \"medium\" model, 1.5GB on disk.\n",
    "* `774M`: the \"large\" model, cannot currently be finetuned with Colaboratory but can be used to generate text from the pretrained model (see later in Notebook)\n",
    "* `1558M`: the \"extra large\", true model. Will not work if a K80 GPU is attached to the notebook. (like `774M`, it cannot be finetuned).\n",
    "\n",
    "Larger models have more knowledge, but take longer to finetune and longer to generate text. You can specify which base model to use by changing `model_name` in the cells below.\n",
    "\n",
    "The next cell downloads it from Google Cloud Storage and saves it in the Colaboratory VM at `/models/<model_name>`.\n",
    "\n",
    "This model isn't permanently saved in the Colaboratory VM; you'll have to redownload it if you want to retrain it at a later time."
   ]
  },
  {
   "cell_type": "code",
   "execution_count": 6,
   "metadata": {
    "colab": {
     "base_uri": "https://localhost:8080/",
     "height": 158
    },
    "colab_type": "code",
    "id": "P8wSlgXoDPCR",
    "outputId": "c73e1bf5-5da2-497e-9fdd-48f4b9abf9f0"
   },
   "outputs": [
    {
     "name": "stderr",
     "output_type": "stream",
     "text": [
      "Fetching checkpoint: 1.05Mit [00:00, 1.05Git/s]                                                     \n",
      "Fetching encoder.json: 1.05Mit [00:00, 10.5Mit/s]                                                   \n",
      "Fetching hparams.json: 1.05Mit [00:00, 524Mit/s]                                                    \n",
      "Fetching model.ckpt.data-00000-of-00001: 498Mit [00:40, 12.3Mit/s]                                  \n",
      "Fetching model.ckpt.index: 1.05Mit [00:00, 524Mit/s]                                                \n",
      "Fetching model.ckpt.meta: 1.05Mit [00:00, 14.2Mit/s]                                                \n",
      "Fetching vocab.bpe: 1.05Mit [00:00, 17.9Mit/s]                                                      \n"
     ]
    }
   ],
   "source": [
    "gpt2.download_gpt2(model_name=\"124M\")"
   ]
  },
  {
   "cell_type": "markdown",
   "metadata": {
    "colab_type": "text",
    "id": "N8KXuKWzQSsN"
   },
   "source": [
    "## Mounting Google Drive\n",
    "\n",
    "The best way to get input text to-be-trained into the Colaboratory VM, and to get the trained model *out* of Colaboratory, is to route it through Google Drive *first*.\n",
    "\n",
    "Running this cell (which will only work in Colaboratory) will mount your personal Google Drive in the VM, which later cells can use to get data in/out. (it will ask for an auth code; that auth is not saved anywhere)"
   ]
  },
  {
   "cell_type": "markdown",
   "metadata": {
    "colab_type": "text",
    "id": "BT__brhBCvJu"
   },
   "source": [
    "## Uploading a Text File to be Trained to Colaboratory\n",
    "\n",
    "In the Colaboratory Notebook sidebar on the left of the screen, select *Files*. From there you can upload files:\n",
    "\n",
    "![alt text](https://i.imgur.com/TGcZT4h.png)\n",
    "\n",
    "Upload **any smaller text file**  (<10 MB) and update the file name in the cell below, then run the cell."
   ]
  },
  {
   "cell_type": "code",
   "execution_count": 8,
   "metadata": {
    "colab": {},
    "colab_type": "code",
    "id": "6OFnPCLADfll"
   },
   "outputs": [],
   "source": [
    "file_name = \"C:/Users/bill/Documents/projects/data/chatbot/gpt/shakespeare.txt\""
   ]
  },
  {
   "cell_type": "markdown",
   "metadata": {
    "colab_type": "text",
    "id": "HeeSKtNWUedE"
   },
   "source": [
    "If your text file is larger than 10MB, it is recommended to upload that file to Google Drive first, then copy that file from Google Drive to the Colaboratory VM."
   ]
  },
  {
   "cell_type": "markdown",
   "metadata": {
    "colab_type": "text",
    "id": "LdpZQXknFNY3"
   },
   "source": [
    "## Finetune GPT-2\n",
    "\n",
    "The next cell will start the actual finetuning of GPT-2. It creates a persistent TensorFlow session which stores the training config, then runs the training for the specified number of `steps`. (to have the finetuning run indefinitely, set `steps = -1`)\n",
    "\n",
    "The model checkpoints will be saved in `/checkpoint/run1` by default. The checkpoints are saved every 500 steps (can be changed) and when the cell is stopped.\n",
    "\n",
    "The training might time out after 4ish hours; make sure you end training and save the results so you don't lose them!\n",
    "\n",
    "**IMPORTANT NOTE:** If you want to rerun this cell, **restart the VM first** (Runtime -> Restart Runtime). You will need to rerun imports but not recopy files.\n",
    "\n",
    "Other optional-but-helpful parameters for `gpt2.finetune`:\n",
    "\n",
    "\n",
    "*  **`restore_from`**: Set to `fresh` to start training from the base GPT-2, or set to `latest` to restart training from an existing checkpoint.\n",
    "* **`sample_every`**: Number of steps to print example output\n",
    "* **`print_every`**: Number of steps to print training progress.\n",
    "* **`learning_rate`**:  Learning rate for the training. (default `1e-4`, can lower to `1e-5` if you have <1MB input data)\n",
    "*  **`run_name`**: subfolder within `checkpoint` to save the model. This is useful if you want to work with multiple models (will also need to specify  `run_name` when loading the model)\n",
    "* **`overwrite`**: Set to `True` if you want to continue finetuning an existing model (w/ `restore_from='latest'`) without creating duplicate copies. "
   ]
  },
  {
   "cell_type": "code",
   "execution_count": 9,
   "metadata": {
    "colab": {
     "base_uri": "https://localhost:8080/",
     "height": 1000
    },
    "colab_type": "code",
    "id": "aeXshJM-Cuaf",
    "outputId": "5bf2f60b-2d09-401b-e3b4-eeacaa58f232"
   },
   "outputs": [
    {
     "name": "stdout",
     "output_type": "stream",
     "text": [
      "WARNING:tensorflow:From C:\\Users\\bill\\software\\anaconda3\\lib\\site-packages\\gpt_2_simple\\src\\sample.py:17: where (from tensorflow.python.ops.array_ops) is deprecated and will be removed in a future version.\n",
      "Instructions for updating:\n",
      "Use tf.where in 2.0, which has the same broadcast rule as np.where\n",
      "Loading checkpoint models\\124M\\model.ckpt\n",
      "INFO:tensorflow:Restoring parameters from models\\124M\\model.ckpt\n"
     ]
    },
    {
     "name": "stderr",
     "output_type": "stream",
     "text": [
      "\r",
      "  0%|                                                                                            | 0/1 [00:00<?, ?it/s]"
     ]
    },
    {
     "name": "stdout",
     "output_type": "stream",
     "text": [
      "Loading dataset...\n"
     ]
    },
    {
     "name": "stderr",
     "output_type": "stream",
     "text": [
      "100%|████████████████████████████████████████████████████████████████████████████████████| 1/1 [00:06<00:00,  6.54s/it]\n"
     ]
    },
    {
     "name": "stdout",
     "output_type": "stream",
     "text": [
      "dataset has 1843775 tokens\n",
      "Training...\n",
      "[10 | 287.88] loss=3.03 avg=3.03\n",
      "[20 | 569.72] loss=2.96 avg=2.99\n",
      "[30 | 851.92] loss=2.96 avg=2.98\n",
      "[40 | 1134.99] loss=2.83 avg=2.95\n",
      "[50 | 1419.93] loss=2.84 avg=2.92\n",
      "[60 | 1704.71] loss=2.51 avg=2.85\n",
      "[70 | 1988.30] loss=2.50 avg=2.80\n",
      "[80 | 2271.90] loss=2.77 avg=2.80\n",
      "[90 | 2555.98] loss=2.59 avg=2.77\n",
      "[100 | 2841.06] loss=2.74 avg=2.77\n",
      "[110 | 3125.89] loss=2.78 avg=2.77\n",
      "[120 | 3410.75] loss=2.45 avg=2.74\n",
      "[130 | 3695.40] loss=2.55 avg=2.73\n",
      "[140 | 3980.20] loss=2.37 avg=2.70\n",
      "[150 | 4264.87] loss=2.52 avg=2.69\n",
      "[160 | 4550.15] loss=2.50 avg=2.67\n",
      "[170 | 4837.78] loss=2.53 avg=2.66\n",
      "[180 | 5126.71] loss=2.86 avg=2.68\n",
      "interrupted\n",
      "Saving checkpoint\\run1\\model-181\n"
     ]
    }
   ],
   "source": [
    "sess = gpt2.start_tf_sess()\n",
    "\n",
    "gpt2.finetune(sess,\n",
    "              dataset=file_name,\n",
    "              model_name='124M',\n",
    "              steps=1000,\n",
    "              restore_from='fresh',\n",
    "              run_name='run1',\n",
    "              print_every=10,\n",
    "              sample_every=200,\n",
    "              save_every=500\n",
    "              )"
   ]
  },
  {
   "cell_type": "markdown",
   "metadata": {
    "colab_type": "text",
    "id": "IXSuTNERaw6K"
   },
   "source": [
    "After the model is trained, you can copy the checkpoint folder to your own Google Drive.\n",
    "\n",
    "If you want to download it to your personal computer, it's strongly recommended you copy it there first, then download from Google Drive. The checkpoint folder is copied as a `.rar` compressed file; you can download it and uncompress it locally."
   ]
  },
  {
   "cell_type": "code",
   "execution_count": 0,
   "metadata": {
    "colab": {},
    "colab_type": "code",
    "id": "VHdTL8NDbAh3"
   },
   "outputs": [],
   "source": [
    "gpt2.copy_checkpoint_to_gdrive(run_name='run1')"
   ]
  },
  {
   "cell_type": "markdown",
   "metadata": {
    "colab_type": "text",
    "id": "qQJgV_b4bmzd"
   },
   "source": [
    "You're done! Feel free to go to the **Generate Text From The Trained Model** section to generate text based on your retrained model."
   ]
  },
  {
   "cell_type": "markdown",
   "metadata": {
    "colab_type": "text",
    "id": "pel-uBULXO2L"
   },
   "source": [
    "## Load a Trained Model Checkpoint\n",
    "\n",
    "Running the next cell will copy the `.rar` checkpoint file from your Google Drive into the Colaboratory VM."
   ]
  },
  {
   "cell_type": "code",
   "execution_count": 0,
   "metadata": {
    "colab": {},
    "colab_type": "code",
    "id": "DCcx5u7sbPTD"
   },
   "outputs": [],
   "source": [
    "gpt2.copy_checkpoint_from_gdrive(run_name='run1')"
   ]
  },
  {
   "cell_type": "markdown",
   "metadata": {
    "colab_type": "text",
    "id": "RTa6zf3e_9gV"
   },
   "source": [
    "The next cell will allow you to load the retrained model checkpoint + metadata necessary to generate text.\n",
    "\n",
    "**IMPORTANT NOTE:** If you want to rerun this cell, **restart the VM first** (Runtime -> Restart Runtime). You will need to rerun imports but not recopy files."
   ]
  },
  {
   "cell_type": "code",
   "execution_count": 0,
   "metadata": {
    "colab": {},
    "colab_type": "code",
    "id": "-fxL77nvAMAX"
   },
   "outputs": [],
   "source": [
    "sess = gpt2.start_tf_sess()\n",
    "gpt2.load_gpt2(sess, run_name='run1')"
   ]
  },
  {
   "cell_type": "markdown",
   "metadata": {
    "colab_type": "text",
    "id": "ClJwpF_ACONp"
   },
   "source": [
    "## Generate Text From The Trained Model\n",
    "\n",
    "After you've trained the model or loaded a retrained model from checkpoint, you can now generate text. `generate` generates a single text from the loaded model."
   ]
  },
  {
   "cell_type": "code",
   "execution_count": 0,
   "metadata": {
    "colab": {
     "base_uri": "https://localhost:8080/",
     "height": 1000
    },
    "colab_type": "code",
    "id": "4RNY6RBI9LmL",
    "outputId": "e6a6fde6-aa7f-4914-8a91-9ecff771a892"
   },
   "outputs": [
    {
     "name": "stdout",
     "output_type": "stream",
     "text": [
      "A patient and a sworn enemy,\n",
      "To one manly gentleman helps to make off\n",
      "One fairer feather: so, happily, I thank thee.\n",
      "\n",
      "HENRY BOLINGBROKE:\n",
      "Welcome, Harry; welcome, Somerset: but that\n",
      "Me too shall be revenged on you.\n",
      "\n",
      "WARWICK:\n",
      "O happy friend I had, as it were a curse,\n",
      "To leave his country of so fair a life!\n",
      "\n",
      "SOMERSET:\n",
      "What foul beast is that in your chamber,\n",
      "Whose big ears and proud eyes shall slander thee\n",
      "For so blasphemous a charge?\n",
      "\n",
      "MONTAGUE:\n",
      "If I thought this was the sweetest, freshest, and lightest\n",
      "In all my cup of wine, I should be silent.\n",
      "It drinks me full of the sweets I drink,\n",
      "And makes me smile more than the sweetest flower.\n",
      "The more I drink, the more full I feel; and so\n",
      "The more sweet is the sweet drink I feel,\n",
      "And the more full full I feel.\n",
      "\n",
      "KING HENRY VI:\n",
      "Welcome to London, Somerset, and Lancaster.\n",
      "Welcome, cousin, to this comfortable bed;\n",
      "So naked and loathsome are these theots!\n",
      "\n",
      "QUEEN MARGARET:\n",
      "What, shall I waken a new man in my sight?\n",
      "\n",
      "KING HENRY VI:\n",
      "What, shall I waken a new man in your sight?\n",
      "\n",
      "QUEEN MARGARET:\n",
      "What, shall I waken a new man in your sight?\n",
      "\n",
      "WARWICK:\n",
      "My countrymen are coming under heavy odds.\n",
      "\n",
      "MONTAGUE:\n",
      "The Earl of Wiltshire hath charged us to fight:\n",
      "If we refuse, he shall be Earl of March,\n",
      "And with him he shall lose his seat:\n",
      "If he take me he am going to be fought,\n",
      "Or he shall continue his seat as before.\n",
      "\n",
      "KING HENRY VI:\n",
      "My peaceable liege, abet thee:\n",
      "Abate the duke that hath charged me thee\n",
      "And send back, return, or I will taunt thee with death:\n",
      "The advantage I have in honour is in hate:\n",
      "Tuteling him for him, and that which is left him,\n",
      "Sith I mean my country in health and power,\n",
      "I will serve as soon as truth and right can.\n",
      "Return to page Montague, and tell them these terms:\n",
      "I will serve them as soon as truth and right can.\n",
      "Now, afore God, to thy heavy sorrows I say:\n",
      "I do reprehend thee in thy duty,\n",
      "In what to do for rejoicing, not in vengeance.\n",
      "\n",
      "BENVOLIO:\n",
      "Amen, combatants! for thy truly are set\n",
      "The bitter hours of goodby; and to thee we all bow\n",
      "Our monthly blessings.\n",
      "\n",
      "MONTAGUE:\n",
      "I hope the king shall not be so rough-faced.\n",
      "\n",
      "HENRY BOLINGBROKE:\n",
      "At what hour shall we puff our heavenly bodies?\n",
      "After our solemn solemnities have our powers:\n",
      "For our mutual solemnities we will sing the ebb and flow\n",
      "Of heavenly bodies; and our heavenly bodies,\n",
      "For our mutual heavenly bodies, we will sound\n",
      "The beat of our heavenly bodies; and our heavenly bodies,\n",
      "For our heavenly bodies, we will sing.\n",
      "Rest you, dear mourners; rest you, and rest;\n",
      "For, rest you, and rest for awhile, methinks,\n",
      "The like abstinence of your evils, methinks,\n",
      "You should with joy have heard, and you-or\n",
      "You, my dear ones, for a quieting rest.\n",
      "\n",
      "KING HENRY VI:\n",
      "You want a nap? you weep for joy;\n",
      "For you, my love, have been browbeat'd with millstones.\n",
      "\n",
      "MONTAGUE:\n",
      "And lack of any joy in absence?\n",
      "\n",
      "HENRY VI:\n",
      "(quietly sighs from head to toe))\n",
      "See who it is: here's a man of your blood,\n",
      "Whom God defend the present may have to bear.\n",
      "\n",
      "CLIFFORD:\n",
      "My lord, his grace, and the noble peers\n",
      "Have all urge'd against your highness.\n",
      "\n",
      "MONTAGUE:\n",
      "And what force dost thou in any respect oppose?\n",
      "\n",
      "YORK:\n",
      "That envies me, like a blasted farmyard mountain.\n",
      "\n",
      "CLIFFORD:\n",
      "Fear not my gloranimity; I'll be gone\n",
      "Even till I be proved aisance.\n",
      "\n",
      "MONTAGUE:\n",
      "And what harm doth he of thy life to thee?\n",
      "\n",
      "YORK:\n",
      "Ay, ay, Richard doth live, and doth entertain\n",
      "As figure to Richard live; whose life is forfeit\n",
      "If he be no better than a fool\n"
     ]
    }
   ],
   "source": [
    "gpt2.generate(sess, run_name='run1')"
   ]
  },
  {
   "cell_type": "markdown",
   "metadata": {
    "colab_type": "text",
    "id": "oF4-PqF0Fl7R"
   },
   "source": [
    "If you're creating an API based on your model and need to pass the generated text elsewhere, you can do `text = gpt2.generate(sess, return_as_list=True)[0]`\n",
    "\n",
    "You can also pass in a `prefix` to the generate function to force the text to start with a given character sequence and generate text from there (good if you add an indicator when the text starts).\n",
    "\n",
    "You can also generate multiple texts at a time by specifing `nsamples`. Unique to GPT-2, you can pass a `batch_size` to generate multiple samples in parallel, giving a massive speedup (in Colaboratory, set a maximum of 20 for `batch_size`).\n",
    "\n",
    "Other optional-but-helpful parameters for `gpt2.generate` and friends:\n",
    "\n",
    "*  **`length`**: Number of tokens to generate (default 1023, the maximum)\n",
    "* **`temperature`**: The higher the temperature, the crazier the text (default 0.7, recommended to keep between 0.7 and 1.0)\n",
    "* **`top_k`**: Limits the generated guesses to the top *k* guesses (default 0 which disables the behavior; if the generated output is super crazy, you may want to set `top_k=40`)\n",
    "* **`top_p`**: Nucleus sampling: limits the generated guesses to a cumulative probability. (gets good results on a dataset with `top_p=0.9`)\n",
    "* **`truncate`**: Truncates the input text until a given sequence, excluding that sequence (e.g. if `truncate='<|endoftext|>'`, the returned text will include everything before the first `<|endoftext|>`). It may be useful to combine this with a smaller `length` if the input texts are short.\n",
    "*  **`include_prefix`**: If using `truncate` and `include_prefix=False`, the specified `prefix` will not be included in the returned text."
   ]
  },
  {
   "cell_type": "code",
   "execution_count": 0,
   "metadata": {
    "colab": {
     "base_uri": "https://localhost:8080/",
     "height": 1000
    },
    "colab_type": "code",
    "id": "8DKMc0fiej4N",
    "outputId": "526dbd1b-f076-4f47-a42b-058ab4a35b9f"
   },
   "outputs": [
    {
     "name": "stdout",
     "output_type": "stream",
     "text": [
      "LORD WILLOUGHBY:\n",
      "That, by the way, Clarence and I have done good side by side;\n",
      "And yet side we, and he side we have done ill.\n",
      "\n",
      "KING RICHARD II:\n",
      "Why then 'tis done ill. O, how should I ease it?\n",
      "Side with him and my brother, my sovereign!\n",
      "Side wither away, and as night falls,\n",
      "Like to the farthest morning to my last,\n",
      "Side wither away, and as morning comes,\n",
      "Like to the furthest afternoon to my last!\n",
      "Side wither away, and as our fortunes turn,\n",
      "Like to the furthest afternoon to our last!\n",
      "\n",
      "QUEEN MARGARET:\n",
      "What is this? counsel? counsel!\n",
      "\n",
      "KING RICHARD II:\n",
      "My queen and my heir, for half a mile and a half\n",
      "She will glide this way, to be or no.\n",
      "\n",
      "QUEEN MARGARET:\n",
      "So stands the orchard here, for half a mile and a!\n",
      "\n",
      "KING RICHARD II:\n",
      "So stands the orchard here, to fence it, to!\n",
      "Fashion it in her, like the hedgehog's net\n",
      "====================\n",
      "LORD STANLEY:\n",
      "What if I told you, in the hope of succor,\n",
      "That I had lain a little while in your arms?\n",
      "\n",
      "DUKE OF YORK:\n",
      "No doubt, my lord.\n",
      "\n",
      "QUEEN ELIZABETH:\n",
      "'Tis a pity I should be coil'd to\n",
      "Be brief and unanswerable. Yet give me this.\n",
      "\n",
      "EXTON:\n",
      "'Tis a truth that vexes me deeply\n",
      "To try whether thou, Lord Hastings, art moved\n",
      "To enter publicly with gentle discourse\n",
      "And thanks from his acknowledged friends.\n",
      "\n",
      "HASTINGS:\n",
      "My gracious lord,\n",
      "Suppose me this: did I so love to see the Tower?\n",
      "\n",
      "KING RICHARD II:\n",
      "I did so; but the duelling Tower, moved\n",
      "By jealousies to oppress me,\n",
      "Wretches to usurp him held most dear,\n",
      "The truth is, I loved the Tower as I loved\n",
      "The princes that envied their prosperity.\n",
      "\n",
      "HASTINGS:\n",
      "I loved innocently,\n",
      "When my princes did usurp their gains; when\n",
      "When my grandsire and my liege, prince and prince,\n",
      "B\n",
      "====================\n",
      "LORD WILLOUGHBY:\n",
      "How long shall it take? only\n",
      "To behold your father's bending in the duke's.\n",
      "How long shall it be? do you understand me?\n",
      "\n",
      "ROMEO:\n",
      "Your grace, I understand you.\n",
      "\n",
      "ROMEO:\n",
      "It must be so; then I'll excuse myself.\n",
      "\n",
      "ROMEO:\n",
      "It shall be so.\n",
      "\n",
      "FRIAR LAURENCE:\n",
      "Your nose is pleasant on myself.\n",
      "\n",
      "ROMEO:\n",
      "No need.\n",
      "\n",
      "FRIAR LAURENCE:\n",
      "My heart is troubled by strange thoughts.\n",
      "\n",
      "ROMEO:\n",
      "No need.\n",
      "\n",
      "FRIAR LAURENCE:\n",
      "My heart is troubled by strange thoughts.\n",
      "\n",
      "ROMEO:\n",
      "Prithee, be quiet; thou need'st it.\n",
      "\n",
      "FRIAR LAURENCE:\n",
      "My mind is unsettled; no need.\n",
      "\n",
      "ROMEO:\n",
      "Prithee, be quiet; thou need'st it.\n",
      "\n",
      "FRIAR LAURENCE:\n",
      "My mind is unsettled; no need.\n",
      "\n",
      "ROMEO:\n",
      "Prithee, be quiet; thou need'st it.\n",
      "\n",
      "FRIAR LA\n",
      "====================\n",
      "LORD WILLOUGHBY:\n",
      "And, if the right Edward were slain,\n",
      "My father's blood should wash the world from me.\n",
      "\n",
      "QUEEN MARGARET:\n",
      "O, let him fly from me, that he may live!\n",
      "\n",
      "PRINCE EDWARD:\n",
      "Arise, one last, and let him be slain ere he return.\n",
      "\n",
      "QUEEN MARGARET:\n",
      "I thank God I am not young nor old to waste.\n",
      "I am young and wooer than this young wooer was.\n",
      "\n",
      "YORK:\n",
      "Younger than young, and wooer than a man is.\n",
      "\n",
      "QUEEN MARGARET:\n",
      "What, wilt thou not kill her?\n",
      "\n",
      "RYBHUS:\n",
      "If thou darest, thou hast to do good deeds,\n",
      "If thou darest, thou darest not kill her, thou darest.\n",
      "\n",
      "PRINCE EDWARD:\n",
      "Where dost thou go? command Warwick to take her?\n",
      "\n",
      "WARWICK:\n",
      "Where leadess Warwick be that Warwick is woo'd.\n",
      "\n",
      "YORK:\n",
      "Where leadess Warwick be woo'd that noble York is.\n",
      "\n",
      "PRINCE\n",
      "====================\n",
      "LORD WILLOUGHBY:\n",
      "Let him please to come and sup with him?\n",
      "\n",
      "WARWICK:\n",
      "I promised he should come and sup with him.\n",
      "\n",
      "YORK:\n",
      "'Twas a vow of charity to vex him,\n",
      "And then he should vex us to come and sup.\n",
      "\n",
      "WARWICK:\n",
      "'Twas but a vow to come and sup with him.\n",
      "\n",
      "YORK:\n",
      "'Twas but a vow to come and sup with him.\n",
      "\n",
      "WARWICK:\n",
      "Come hither, slave boy.\n",
      "Me I come, you wretched hag, you wretched thing.\n",
      "\n",
      "DORCAS:\n",
      "'Tis very well. Come, go with me.\n",
      "\n",
      "WARWICK:\n",
      "I will be his slave, and make his bondage known.\n",
      "\n",
      "EXTON:\n",
      "So, you have resisted his bondage, you have run your errand too far.\n",
      "\n",
      "WESTMORELAND:\n",
      "O, but O, the slave that was past the year\n",
      "Doth not my errand a better errand?\n",
      "\n",
      "EXTON:\n",
      "No, for so my wits charge me thus too late.\n",
      "\n",
      "WARWICK:\n",
      "But\n",
      "====================\n"
     ]
    }
   ],
   "source": [
    "gpt2.generate(sess,\n",
    "              length=250,\n",
    "              temperature=0.7,\n",
    "              prefix=\"LORD\",\n",
    "              nsamples=5,\n",
    "              batch_size=5\n",
    "              )"
   ]
  },
  {
   "cell_type": "markdown",
   "metadata": {
    "colab_type": "text",
    "id": "zjjEN2Tafhl2"
   },
   "source": [
    "For bulk generation, you can generate a large amount of text to a file and sort out the samples locally on your computer. The next cell will generate a generated text file with a unique timestamp.\n",
    "\n",
    "You can rerun the cells as many times as you want for even more generated texts!"
   ]
  },
  {
   "cell_type": "code",
   "execution_count": 0,
   "metadata": {
    "colab": {},
    "colab_type": "code",
    "id": "Fa6p6arifSL0"
   },
   "outputs": [],
   "source": [
    "gen_file = 'gpt2_gentext_{:%Y%m%d_%H%M%S}.txt'.format(datetime.utcnow())\n",
    "\n",
    "gpt2.generate_to_file(sess,\n",
    "                      destination_path=gen_file,\n",
    "                      length=500,\n",
    "                      temperature=0.7,\n",
    "                      nsamples=100,\n",
    "                      batch_size=20\n",
    "                      )"
   ]
  },
  {
   "cell_type": "code",
   "execution_count": 0,
   "metadata": {
    "colab": {},
    "colab_type": "code",
    "id": "0-LRex8lfv1g"
   },
   "outputs": [],
   "source": [
    "# may have to run twice to get file to download\n",
    "files.download(gen_file)"
   ]
  },
  {
   "cell_type": "markdown",
   "metadata": {
    "colab_type": "text",
    "id": "QQAN3M6RT7Kj"
   },
   "source": [
    "## Generate Text From The Pretrained Model\n",
    "\n",
    "If you want to generate text from the pretrained model, not a finetuned model, pass `model_name` to `gpt2.load_gpt2()` and `gpt2.generate()`.\n",
    "\n",
    "This is currently the only way to generate text from the 774M or 1558M models with this notebook."
   ]
  },
  {
   "cell_type": "code",
   "execution_count": 0,
   "metadata": {
    "colab": {
     "base_uri": "https://localhost:8080/",
     "height": 158
    },
    "colab_type": "code",
    "id": "hsUd_jHgUZnD",
    "outputId": "4e0c8a3f-3527-41c4-e3fe-3357f3f8f6c2"
   },
   "outputs": [
    {
     "name": "stderr",
     "output_type": "stream",
     "text": [
      "Fetching checkpoint: 1.05Mit [00:00, 354Mit/s]                                                      \n",
      "Fetching encoder.json: 1.05Mit [00:00, 131Mit/s]                                                    \n",
      "Fetching hparams.json: 1.05Mit [00:00, 279Mit/s]                                                    \n",
      "Fetching model.ckpt.data-00000-of-00001: 3.10Git [00:23, 131Mit/s]                                  \n",
      "Fetching model.ckpt.index: 1.05Mit [00:00, 380Mit/s]                                                \n",
      "Fetching model.ckpt.meta: 2.10Mit [00:00, 226Mit/s]                                                 \n",
      "Fetching vocab.bpe: 1.05Mit [00:00, 199Mit/s]                                                       \n"
     ]
    }
   ],
   "source": [
    "model_name = \"774M\"\n",
    "\n",
    "gpt2.download_gpt2(model_name=model_name)"
   ]
  },
  {
   "cell_type": "code",
   "execution_count": 0,
   "metadata": {
    "colab": {
     "base_uri": "https://localhost:8080/",
     "height": 124
    },
    "colab_type": "code",
    "id": "BAe4NpKNUj2C",
    "outputId": "b09bfe1d-2ff8-4b8a-fffb-273d28d5d4ae"
   },
   "outputs": [
    {
     "name": "stderr",
     "output_type": "stream",
     "text": [
      "WARNING: Logging before flag parsing goes to stderr.\n",
      "W0828 18:37:58.571830 139905369159552 deprecation.py:323] From /usr/local/lib/python3.6/dist-packages/tensorflow/python/training/saver.py:1276: checkpoint_exists (from tensorflow.python.training.checkpoint_management) is deprecated and will be removed in a future version.\n",
      "Instructions for updating:\n",
      "Use standard file APIs to check for files with this prefix.\n"
     ]
    },
    {
     "name": "stdout",
     "output_type": "stream",
     "text": [
      "Loading pretrained model models/774M/model.ckpt\n"
     ]
    }
   ],
   "source": [
    "sess = gpt2.start_tf_sess()\n",
    "\n",
    "gpt2.load_gpt2(sess, model_name=model_name)"
   ]
  },
  {
   "cell_type": "code",
   "execution_count": 0,
   "metadata": {
    "colab": {
     "base_uri": "https://localhost:8080/",
     "height": 797
    },
    "colab_type": "code",
    "id": "-xInIZKaU104",
    "outputId": "56348e28-7d08-45e3-c859-f26c0efd066d"
   },
   "outputs": [
    {
     "name": "stdout",
     "output_type": "stream",
     "text": [
      "The secret of life is that it's really easy to make it complicated,\" said Bill Nye, the host of the popular science show \"Bill Nye the Science Guy.\" \"And this is one of the reasons why we all need to be smarter about science, because we can't keep up with the amazing things that are going on all the time.\"\n",
      "\n",
      "While Nye is correct that \"everything that's going on all the time\" is making the world a better place, he misses the point. This is not\n",
      "====================\n",
      "The secret of life is in the rhythm of the universe. It's not a mystery. It's not a mystery to me. It's the nature of the universe. It's the beauty of the universe. It's the way the universe works. It's the way the universe is. It's the way the universe is going to work. It's the way the universe is. It's the way the universe is. It's the way the universe is. It's the way the universe is. It's the way\n",
      "====================\n",
      "The secret of life is in the universe.\n",
      "\n",
      "\n",
      "-\n",
      "\n",
      "The Red Devil\n",
      "\n",
      "It's the end of the world as we know it, and the only thing that can save us is a band of super-powered individuals known as the Red Devil.\n",
      "\n",
      "\n",
      "The Red Devil is a group of super-powered individuals who are seeking the secret of life and the only way they know how to do it is by taking on the roles of a variety of different super-powered individuals, each of which has their own\n",
      "====================\n",
      "The secret of life is in the mixing of the elements, and it is the mixing of the elements that makes life possible.\"\n",
      "\n",
      "But in the world of food science, the idea of a \"complex\" or \"complexity\" is almost entirely imaginary.\n",
      "\n",
      "As a scientist, I'm fascinated by the question of how life first began.\n",
      "\n",
      "It's the question that drives my work and the work of the scientists who work on it.\n",
      "\n",
      "My current research is exploring how microbes work in the first moments\n",
      "====================\n",
      "The secret of life is the journey of life, the search for the truth.\n",
      "\n",
      "4.4.2. The last thing you know\n",
      "\n",
      "There is nothing more important than the last thing you know.\n",
      "\n",
      "4.4.3. The little things that make all the difference\n",
      "\n",
      "The little things that make all the difference.\n",
      "\n",
      "4.4.4. The truth is the best teacher\n",
      "\n",
      "The truth is the best teacher.\n",
      "\n",
      "4.4.5. The truth is what\n",
      "====================\n"
     ]
    }
   ],
   "source": [
    "gpt2.generate(sess,\n",
    "              model_name=model_name,\n",
    "              prefix=\"The secret of life is\",\n",
    "              length=100,\n",
    "              temperature=0.7,\n",
    "              top_p=0.9,\n",
    "              nsamples=5,\n",
    "              batch_size=5\n",
    "              )"
   ]
  },
  {
   "cell_type": "markdown",
   "metadata": {
    "colab_type": "text",
    "id": "ig-KVgkCDCKD"
   },
   "source": [
    "# Etcetera\n",
    "\n",
    "If the notebook has errors (e.g. GPU Sync Fail), force-kill the Colaboratory virtual machine and restart it with the command below:"
   ]
  },
  {
   "cell_type": "code",
   "execution_count": 0,
   "metadata": {
    "colab": {},
    "colab_type": "code",
    "id": "rIHiVP53FnsX"
   },
   "outputs": [],
   "source": [
    "!kill -9 -1"
   ]
  },
  {
   "cell_type": "markdown",
   "metadata": {
    "colab_type": "text",
    "id": "wmTXWNUygS5E"
   },
   "source": [
    "# LICENSE\n",
    "\n",
    "MIT License\n",
    "\n",
    "Copyright (c) 2019 Max Woolf\n",
    "\n",
    "Permission is hereby granted, free of charge, to any person obtaining a copy\n",
    "of this software and associated documentation files (the \"Software\"), to deal\n",
    "in the Software without restriction, including without limitation the rights\n",
    "to use, copy, modify, merge, publish, distribute, sublicense, and/or sell\n",
    "copies of the Software, and to permit persons to whom the Software is\n",
    "furnished to do so, subject to the following conditions:\n",
    "\n",
    "The above copyright notice and this permission notice shall be included in all\n",
    "copies or substantial portions of the Software.\n",
    "\n",
    "THE SOFTWARE IS PROVIDED \"AS IS\", WITHOUT WARRANTY OF ANY KIND, EXPRESS OR\n",
    "IMPLIED, INCLUDING BUT NOT LIMITED TO THE WARRANTIES OF MERCHANTABILITY,\n",
    "FITNESS FOR A PARTICULAR PURPOSE AND NONINFRINGEMENT. IN NO EVENT SHALL THE\n",
    "AUTHORS OR COPYRIGHT HOLDERS BE LIABLE FOR ANY CLAIM, DAMAGES OR OTHER\n",
    "LIABILITY, WHETHER IN AN ACTION OF CONTRACT, TORT OR OTHERWISE, ARISING FROM,\n",
    "OUT OF OR IN CONNECTION WITH THE SOFTWARE OR THE USE OR OTHER DEALINGS IN THE\n",
    "SOFTWARE."
   ]
  }
 ],
 "metadata": {
  "accelerator": "GPU",
  "colab": {
   "collapsed_sections": [],
   "name": "Train a GPT-2 Text-Generating Model w/ GPU",
   "provenance": []
  },
  "kernelspec": {
   "display_name": "Python 3",
   "language": "python",
   "name": "python3"
  },
  "language_info": {
   "codemirror_mode": {
    "name": "ipython",
    "version": 3
   },
   "file_extension": ".py",
   "mimetype": "text/x-python",
   "name": "python",
   "nbconvert_exporter": "python",
   "pygments_lexer": "ipython3",
   "version": "3.7.4"
  }
 },
 "nbformat": 4,
 "nbformat_minor": 1
}
