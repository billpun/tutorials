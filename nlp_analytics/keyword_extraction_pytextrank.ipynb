{
 "cells": [
  {
   "cell_type": "code",
   "execution_count": 1,
   "metadata": {},
   "outputs": [],
   "source": [
    "import os\n",
    "import pandas as pd\n",
    "import gc\n",
    "\n",
    "import tensorflow_hub as hub\n",
    "from scipy.spatial.distance import cdist\n",
    "\n",
    "import pytextrank\n",
    "import spacy"
   ]
  },
  {
   "cell_type": "code",
   "execution_count": 7,
   "metadata": {},
   "outputs": [
    {
     "name": "stdout",
     "output_type": "stream",
     "text": [
      "similar title to Role of the environment in transmission\n",
      "- Aerobiology and Its Role in the Transmission of Infectious Diseases\n",
      "- Regulatory Role of Small Nucleolar RNAs in Human Diseases\n",
      "- Bioaerosols Play a Major Role in the Nasopharyngeal Microbiota Content in Agricultural Environment\n",
      "- Environmental Health Outdoor environments and human pathogens in air\n",
      "- Transmission of Infectious Diseases En Route to Habitat Hotspots\n",
      "- The role of absolute humidity on transmission rates of the COVID-19 outbreak\n",
      "- Role of fomites in SARS transmission during the largest hospital outbreak in Hong Kong\n",
      "- Microglia Play a Major Role in Direct Viral-Induced Demyelination\n",
      "- The role of respiratory viruses in the etiology of bacterial pneumonia An ecological perspective\n",
      "- Divergent Roles of Autophagy in Virus Infection\n",
      "- Title: Transmission potential of COVID-19 in South Korea\n",
      "\n",
      "\n",
      "after joining all the similar abstracts\n",
      "bstractAerobiology plays a fundamental role in the transmission of infectious diseases. As infectious disease and infection control practitioners continue employing contemporary techniques , the central variables affecting the airborne transmission of pathogens are becoming better known. is paper  ...\n"
     ]
    }
   ],
   "source": [
    "path = 'C:/Users/bill/Documents/projects/data/covid19/open_research/clean_csv/'\n",
    "clean_comm = pd.read_csv(os.path.join(path, 'clean_comm_use.csv'), nrows=5000)\n",
    "clean_comm['source'] = 'clean_comm'\n",
    "#clean_pmc=pd.read_csv(path+\"clean_pmc.csv\")\n",
    "#clean_pmc['source']='clean_pmc'\n",
    "biox = pd.read_csv(os.path.join(path, 'biorxiv_clean.csv'))\n",
    "biox['source'] = 'biorx'\n",
    "\n",
    "all_articles=pd.concat([biox, clean_comm])\n",
    "all_articles.fillna(\"Unknown\", inplace=True)\n",
    "all_articles.head()\n",
    "\n",
    "# clean up\n",
    "del biox, clean_comm\n",
    "gc.collect()\n",
    "\n",
    "# load sentence embedding\n",
    "module_url = 'C:/Users/bill/Documents/projects/data/sents/universal_sentence_encoder_large'\n",
    "embed = hub.load(module_url)\n",
    "\n",
    "def get_top_similar(sentence, sentence_list, embed_vectors, top):\n",
    "    similarity_row = cdist(embed_vectors, embed([sentence]).numpy()[0].reshape(1, -1), 'cosine').reshape(-1)\n",
    "    results = similarity_row.argsort()\n",
    "    return [ (results[i], sentence_list[results[i]]) for i in range(top + 1) ]\n",
    "\n",
    "# find similar sentences\n",
    "sentence_list = all_articles.title.values.tolist()\n",
    "embed_vectors = embed(sentence_list).numpy()\n",
    "sentence = 'Role of the environment in transmission'\n",
    "similar = get_top_similar(sentence, sentence_list, embed_vectors, 10)\n",
    "print('similar title to {}'.format(sentence))\n",
    "for sent in similar:\n",
    "    print('- {}'.format(sent[1]))\n",
    "print('\\n')\n",
    "    \n",
    "# extract title and abstract from similar articles\n",
    "ind, title = list(map(list, zip(*similar)))\n",
    "titles = []\n",
    "texts = []\n",
    "for i in ind:\n",
    "    titles.append(all_articles.iloc[i]['title'])\n",
    "    texts.append(all_articles.iloc[i]['abstract'])\n",
    "    \n",
    "import re\n",
    "def clean(txt):\n",
    "    txt=re.sub(r'\\n','',txt)\n",
    "    txt=re.sub(r'\\([^()]*\\)','',txt)\n",
    "    txt=re.sub(r'https?:\\S+\\sdoi','',txt)\n",
    "    return txt\n",
    "\n",
    "texts = list(map(clean, texts))\n",
    "text_list = ' '.join(texts)\n",
    "print('after joining all the similar abstracts:')\n",
    "print(text_list[1:300] + ' ...')"
   ]
  },
  {
   "cell_type": "code",
   "execution_count": 4,
   "metadata": {},
   "outputs": [
    {
     "name": "stdout",
     "output_type": "stream",
     "text": [
      "pipeline ['tagger', 'parser', 'ner', 'textrank']\n",
      "elapsed time: 130.84745407104492 ms\n"
     ]
    }
   ],
   "source": [
    "nlp = spacy.load(\"en_core_web_sm\")\n",
    "tr = pytextrank.TextRank(logger=None)\n",
    "nlp.add_pipe(tr.PipelineComponent, name=\"textrank\", last=True)\n",
    "\n",
    "doc = nlp(text_list)\n",
    "\n",
    "print(\"pipeline\", nlp.pipe_names)\n",
    "print(\"elapsed time: {} ms\".format(tr.elapsed_time))"
   ]
  },
  {
   "cell_type": "code",
   "execution_count": 8,
   "metadata": {},
   "outputs": [
    {
     "name": "stdout",
     "output_type": "stream",
     "text": [
      "[virus infection, virus infection]\n",
      "[lower respiratory viral infection]\n",
      "[upper respiratory viral infection]\n",
      "[disease transmission, disease transmission]\n",
      "[airborne infectious diseases]\n",
      "[infection control practitioners]\n",
      "[viral co-infection]\n",
      "[respiratory viruses, respiratory viruses, respiratory viruses]\n",
      "[infection risk]\n",
      "[MHV infection]\n"
     ]
    }
   ],
   "source": [
    "for phrase in doc._.phrases[:10]:\n",
    "    #print(\"{}\".format(phrase.text))\n",
    "    print(phrase.chunks)"
   ]
  }
 ],
 "metadata": {
  "kernelspec": {
   "display_name": "Python 3",
   "language": "python",
   "name": "python3"
  },
  "language_info": {
   "codemirror_mode": {
    "name": "ipython",
    "version": 3
   },
   "file_extension": ".py",
   "mimetype": "text/x-python",
   "name": "python",
   "nbconvert_exporter": "python",
   "pygments_lexer": "ipython3",
   "version": "3.7.4"
  }
 },
 "nbformat": 4,
 "nbformat_minor": 4
}
