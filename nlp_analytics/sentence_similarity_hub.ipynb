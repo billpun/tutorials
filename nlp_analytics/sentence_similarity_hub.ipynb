{
 "cells": [
  {
   "cell_type": "code",
   "execution_count": 1,
   "metadata": {},
   "outputs": [],
   "source": [
    "import os\n",
    "import numpy as np\n",
    "import pandas as pd\n",
    "import tensorflow_hub as hub\n",
    "from scipy.spatial.distance import cdist"
   ]
  },
  {
   "cell_type": "code",
   "execution_count": 2,
   "metadata": {},
   "outputs": [],
   "source": [
    "# load data\n",
    "path = 'c:/Users/bill/Documents/projects/data/covid19/open_research'\n",
    "all_sources = pd.read_csv(os.path.join(path, 'metadata.csv'), low_memory=False)"
   ]
  },
  {
   "cell_type": "code",
   "execution_count": 4,
   "metadata": {},
   "outputs": [],
   "source": [
    "# load sentence embedding\n",
    "module_url = 'C:/Users/bill/Documents/projects/data/sents/universal_sentence_encoder_large/'\n",
    "embed = hub.load(module_url)"
   ]
  },
  {
   "cell_type": "code",
   "execution_count": 5,
   "metadata": {},
   "outputs": [],
   "source": [
    "def get_top_similar(sentence, sentence_list, embed_vectors, top):\n",
    "    similarity_row = cdist(embed_vectors, embed([sentence]).numpy()[0].reshape(1, -1), 'cosine').reshape(-1)\n",
    "    results = similarity_row.argsort()\n",
    "    return [ (results[i], sentence_list[results[i]]) for i in range(top + 1) ]"
   ]
  },
  {
   "cell_type": "code",
   "execution_count": 6,
   "metadata": {},
   "outputs": [
    {
     "name": "stdout",
     "output_type": "stream",
     "text": [
      "Similar research papers to: Infectious diarrhea: Pathogenesis and risk factors\n",
      "(0, 'Intrauterine virus infections and congenital heart disease')\n",
      "(27, 'Diarrhoea in the dog and cat I. Acute diarrhoea')\n",
      "(90, \"Immunocytochemical evidence of Listeria, Escherichia coil, and Streptococcus antigens in Crohn's disease\")\n",
      "(85, 'Electrolyte transport in piglets infected with transmissible gastroenteritis virus Stimulation by verapamil and clonidine')\n",
      "(87, \"Causation of Crohn's disease: The impact of clusters\")\n"
     ]
    }
   ],
   "source": [
    "# get research titles\n",
    "sentence_list = all_sources['title'].fillna(\"Unknown\").values.tolist()\n",
    "\n",
    "# get the target sentence\n",
    "base_idx = 5\n",
    "base_sentence = sentence_list[base_idx]\n",
    "\n",
    "# extract embedding for each title in top 100\n",
    "embed_vectors = embed(sentence_list[:100]).numpy()\n",
    "\n",
    "# get the indices of top similar sentences\n",
    "top = 5\n",
    "results = get_top_similar(base_sentence, sentence_list, embed_vectors, top)\n",
    "\n",
    "print(\"Similar research papers to: {}\".format(base_sentence))\n",
    "for sentence in results[1:]:\n",
    "    print(sentence)"
   ]
  }
 ],
 "metadata": {
  "kernelspec": {
   "display_name": "Python 3",
   "language": "python",
   "name": "python3"
  },
  "language_info": {
   "codemirror_mode": {
    "name": "ipython",
    "version": 3
   },
   "file_extension": ".py",
   "mimetype": "text/x-python",
   "name": "python",
   "nbconvert_exporter": "python",
   "pygments_lexer": "ipython3",
   "version": "3.7.4"
  }
 },
 "nbformat": 4,
 "nbformat_minor": 4
}
